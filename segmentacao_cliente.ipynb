{
  "nbformat": 4,
  "nbformat_minor": 0,
  "metadata": {
    "kernelspec": {
      "display_name": "Python 3",
      "language": "python",
      "name": "python3"
    },
    "language_info": {
      "codemirror_mode": {
        "name": "ipython",
        "version": 3
      },
      "file_extension": ".py",
      "mimetype": "text/x-python",
      "name": "python",
      "nbconvert_exporter": "python",
      "pygments_lexer": "ipython3",
      "version": "3.7.6"
    },
    "colab": {
      "name": "segmentacao-cliente.ipynb",
      "provenance": [],
      "include_colab_link": true
    }
  },
  "cells": [
    {
      "cell_type": "markdown",
      "metadata": {
        "id": "view-in-github",
        "colab_type": "text"
      },
      "source": [
        "<a href=\"https://colab.research.google.com/github/henriquevedoveli/segmentacao-clientes/blob/main/segmentacao_cliente.ipynb\" target=\"_parent\"><img src=\"https://colab.research.google.com/assets/colab-badge.svg\" alt=\"Open In Colab\"/></a>"
      ]
    },
    {
      "cell_type": "markdown",
      "metadata": {
        "id": "wie_AgdX84hF"
      },
      "source": [
        "# Segmentação de Clientes Utilizando Modelo RFM\n",
        "---\n",
        "## ***Objetivo***\n",
        "#### Identificar a frequência, recência e receita (modelo RFM) dos consumidores e agrupa-los por categorias de compras. Com a finalidade de poder ser realizado campanhas de marketing específicasm além de criar programas de recompensas para clientes que mais consomem.\n",
        "---\n",
        "### Sobre os Dados\n",
        "\n",
        "#### Os dados utilizados são pertecentes de um banco do site de e-commerce Olist, o Dataset completo contém 26 colunas com 116581 registros.\n",
        "---\n",
        "### Tópicos Abordados Durante o Projeto\n",
        "\n",
        "- Análise Exploratória dos Dados\n",
        "\n",
        "- Método RFM\n",
        "\n",
        "- Clusterização\n",
        "\n",
        "- Regra do Cotovelo \n",
        "\n",
        "Bibliotecas Necessárias"
      ]
    },
    {
      "cell_type": "code",
      "metadata": {
        "id": "uRkZggc084hF"
      },
      "source": [
        "import pandas as pd\n",
        "pd.set_option('display.max_columns', None)\n",
        "\n",
        "import matplotlib.pyplot as plt\n",
        "import datetime\n",
        "import numpy as np\n",
        "import math\n",
        "import seaborn as sns\n",
        "import warnings\n",
        "warnings.filterwarnings('ignore')\n",
        "\n",
        "from sklearn.cluster import KMeans\n"
      ],
      "execution_count": null,
      "outputs": []
    },
    {
      "cell_type": "markdown",
      "metadata": {
        "id": "h4EhQu3P84hF"
      },
      "source": [
        "## Importando os dados\n"
      ]
    },
    {
      "cell_type": "code",
      "metadata": {
        "id": "U8sHHb0484hF",
        "outputId": "3256ad2c-de73-4550-bde0-e3757b93efe5"
      },
      "source": [
        "dados = pd.read_csv('dados/BancoDeDados.csv')\n",
        "\n",
        "dados.head()"
      ],
      "execution_count": null,
      "outputs": [
        {
          "output_type": "execute_result",
          "data": {
            "text/html": [
              "<div>\n",
              "<style scoped>\n",
              "    .dataframe tbody tr th:only-of-type {\n",
              "        vertical-align: middle;\n",
              "    }\n",
              "\n",
              "    .dataframe tbody tr th {\n",
              "        vertical-align: top;\n",
              "    }\n",
              "\n",
              "    .dataframe thead th {\n",
              "        text-align: right;\n",
              "    }\n",
              "</style>\n",
              "<table border=\"1\" class=\"dataframe\">\n",
              "  <thead>\n",
              "    <tr style=\"text-align: right;\">\n",
              "      <th></th>\n",
              "      <th>amostra</th>\n",
              "      <th>id_cliente</th>\n",
              "      <th>id_unico_cliente</th>\n",
              "      <th>item_id</th>\n",
              "      <th>cep_cliente</th>\n",
              "      <th>cidade_cliente</th>\n",
              "      <th>estado_cliente</th>\n",
              "      <th>id_pedido</th>\n",
              "      <th>status_pedido</th>\n",
              "      <th>horario_pedido</th>\n",
              "      <th>pedido_aprovado</th>\n",
              "      <th>pedido_entregador</th>\n",
              "      <th>pedido_entregue</th>\n",
              "      <th>data_estimada</th>\n",
              "      <th>id_vendedor</th>\n",
              "      <th>preco</th>\n",
              "      <th>frete</th>\n",
              "      <th>pagamento_sequencial</th>\n",
              "      <th>pagamento_tipo</th>\n",
              "      <th>pagamento_prestacoes</th>\n",
              "      <th>pagamento_valor</th>\n",
              "      <th>review</th>\n",
              "      <th>categoria</th>\n",
              "      <th>categoria_ingles</th>\n",
              "      <th>cep_vendedor</th>\n",
              "      <th>cidade_vendedor</th>\n",
              "      <th>estado_vendedor</th>\n",
              "    </tr>\n",
              "  </thead>\n",
              "  <tbody>\n",
              "    <tr>\n",
              "      <th>0</th>\n",
              "      <td>0</td>\n",
              "      <td>06b8999e2fba1a1fbc88172c00ba8bc7</td>\n",
              "      <td>861eff4711a542e4b93843c6dd7febb0</td>\n",
              "      <td>1</td>\n",
              "      <td>14409</td>\n",
              "      <td>franca</td>\n",
              "      <td>SP</td>\n",
              "      <td>00e7ee1b050b8499577073aeb2a297a1</td>\n",
              "      <td>delivered</td>\n",
              "      <td>2017-05-16 15:05:35</td>\n",
              "      <td>2017-05-16 15:22:12</td>\n",
              "      <td>2017-05-23 10:47:57</td>\n",
              "      <td>2017-05-25 10:35:35</td>\n",
              "      <td>2017-06-05 00:00:00</td>\n",
              "      <td>7c67e1448b00f6e969d365cea6b010ab</td>\n",
              "      <td>124.99</td>\n",
              "      <td>21.88</td>\n",
              "      <td>1</td>\n",
              "      <td>credit_card</td>\n",
              "      <td>2</td>\n",
              "      <td>146.87</td>\n",
              "      <td>4</td>\n",
              "      <td>moveis_escritorio</td>\n",
              "      <td>office_furniture</td>\n",
              "      <td>8577</td>\n",
              "      <td>itaquaquecetuba</td>\n",
              "      <td>SP</td>\n",
              "    </tr>\n",
              "    <tr>\n",
              "      <th>1</th>\n",
              "      <td>1</td>\n",
              "      <td>8912fc0c3bbf1e2fbf35819e21706718</td>\n",
              "      <td>9eae34bbd3a474ec5d07949ca7de67c0</td>\n",
              "      <td>1</td>\n",
              "      <td>68030</td>\n",
              "      <td>santarem</td>\n",
              "      <td>PA</td>\n",
              "      <td>c1d2b34febe9cd269e378117d6681172</td>\n",
              "      <td>delivered</td>\n",
              "      <td>2017-11-09 00:50:13</td>\n",
              "      <td>2017-11-10 00:47:48</td>\n",
              "      <td>2017-11-22 01:43:37</td>\n",
              "      <td>2017-11-28 00:09:50</td>\n",
              "      <td>2017-12-19 00:00:00</td>\n",
              "      <td>7c67e1448b00f6e969d365cea6b010ab</td>\n",
              "      <td>112.99</td>\n",
              "      <td>24.90</td>\n",
              "      <td>1</td>\n",
              "      <td>credit_card</td>\n",
              "      <td>1</td>\n",
              "      <td>275.79</td>\n",
              "      <td>1</td>\n",
              "      <td>moveis_escritorio</td>\n",
              "      <td>office_furniture</td>\n",
              "      <td>8577</td>\n",
              "      <td>itaquaquecetuba</td>\n",
              "      <td>SP</td>\n",
              "    </tr>\n",
              "    <tr>\n",
              "      <th>2</th>\n",
              "      <td>2</td>\n",
              "      <td>8912fc0c3bbf1e2fbf35819e21706718</td>\n",
              "      <td>9eae34bbd3a474ec5d07949ca7de67c0</td>\n",
              "      <td>2</td>\n",
              "      <td>68030</td>\n",
              "      <td>santarem</td>\n",
              "      <td>PA</td>\n",
              "      <td>c1d2b34febe9cd269e378117d6681172</td>\n",
              "      <td>delivered</td>\n",
              "      <td>2017-11-09 00:50:13</td>\n",
              "      <td>2017-11-10 00:47:48</td>\n",
              "      <td>2017-11-22 01:43:37</td>\n",
              "      <td>2017-11-28 00:09:50</td>\n",
              "      <td>2017-12-19 00:00:00</td>\n",
              "      <td>7c67e1448b00f6e969d365cea6b010ab</td>\n",
              "      <td>112.99</td>\n",
              "      <td>24.90</td>\n",
              "      <td>1</td>\n",
              "      <td>credit_card</td>\n",
              "      <td>1</td>\n",
              "      <td>275.79</td>\n",
              "      <td>1</td>\n",
              "      <td>moveis_escritorio</td>\n",
              "      <td>office_furniture</td>\n",
              "      <td>8577</td>\n",
              "      <td>itaquaquecetuba</td>\n",
              "      <td>SP</td>\n",
              "    </tr>\n",
              "    <tr>\n",
              "      <th>3</th>\n",
              "      <td>3</td>\n",
              "      <td>f0ac8e5a239118859b1734e1087cbb1f</td>\n",
              "      <td>3c799d181c34d51f6d44bbbc563024db</td>\n",
              "      <td>1</td>\n",
              "      <td>92480</td>\n",
              "      <td>nova santa rita</td>\n",
              "      <td>RS</td>\n",
              "      <td>b1a5d5365d330d10485e0203d54ab9e8</td>\n",
              "      <td>delivered</td>\n",
              "      <td>2017-05-07 20:11:26</td>\n",
              "      <td>2017-05-08 22:22:56</td>\n",
              "      <td>2017-05-19 20:16:31</td>\n",
              "      <td>2017-05-26 09:54:04</td>\n",
              "      <td>2017-06-12 00:00:00</td>\n",
              "      <td>7c67e1448b00f6e969d365cea6b010ab</td>\n",
              "      <td>124.99</td>\n",
              "      <td>15.62</td>\n",
              "      <td>1</td>\n",
              "      <td>credit_card</td>\n",
              "      <td>7</td>\n",
              "      <td>140.61</td>\n",
              "      <td>3</td>\n",
              "      <td>moveis_escritorio</td>\n",
              "      <td>office_furniture</td>\n",
              "      <td>8577</td>\n",
              "      <td>itaquaquecetuba</td>\n",
              "      <td>SP</td>\n",
              "    </tr>\n",
              "    <tr>\n",
              "      <th>4</th>\n",
              "      <td>4</td>\n",
              "      <td>6bc8d08963a135220ed6c6d098831f84</td>\n",
              "      <td>23397e992b09769faf5e66f9e171a241</td>\n",
              "      <td>1</td>\n",
              "      <td>25931</td>\n",
              "      <td>mage</td>\n",
              "      <td>RJ</td>\n",
              "      <td>2e604b3614664aa66867856dba7e61b7</td>\n",
              "      <td>delivered</td>\n",
              "      <td>2018-02-03 19:45:40</td>\n",
              "      <td>2018-02-04 22:29:19</td>\n",
              "      <td>2018-02-19 18:21:47</td>\n",
              "      <td>2018-02-28 21:09:00</td>\n",
              "      <td>2018-03-22 00:00:00</td>\n",
              "      <td>7c67e1448b00f6e969d365cea6b010ab</td>\n",
              "      <td>106.99</td>\n",
              "      <td>30.59</td>\n",
              "      <td>1</td>\n",
              "      <td>credit_card</td>\n",
              "      <td>10</td>\n",
              "      <td>137.58</td>\n",
              "      <td>4</td>\n",
              "      <td>moveis_escritorio</td>\n",
              "      <td>office_furniture</td>\n",
              "      <td>8577</td>\n",
              "      <td>itaquaquecetuba</td>\n",
              "      <td>SP</td>\n",
              "    </tr>\n",
              "  </tbody>\n",
              "</table>\n",
              "</div>"
            ],
            "text/plain": [
              "   amostra                        id_cliente  \\\n",
              "0        0  06b8999e2fba1a1fbc88172c00ba8bc7   \n",
              "1        1  8912fc0c3bbf1e2fbf35819e21706718   \n",
              "2        2  8912fc0c3bbf1e2fbf35819e21706718   \n",
              "3        3  f0ac8e5a239118859b1734e1087cbb1f   \n",
              "4        4  6bc8d08963a135220ed6c6d098831f84   \n",
              "\n",
              "                   id_unico_cliente  item_id  cep_cliente   cidade_cliente  \\\n",
              "0  861eff4711a542e4b93843c6dd7febb0        1        14409           franca   \n",
              "1  9eae34bbd3a474ec5d07949ca7de67c0        1        68030         santarem   \n",
              "2  9eae34bbd3a474ec5d07949ca7de67c0        2        68030         santarem   \n",
              "3  3c799d181c34d51f6d44bbbc563024db        1        92480  nova santa rita   \n",
              "4  23397e992b09769faf5e66f9e171a241        1        25931             mage   \n",
              "\n",
              "  estado_cliente                         id_pedido status_pedido  \\\n",
              "0             SP  00e7ee1b050b8499577073aeb2a297a1     delivered   \n",
              "1             PA  c1d2b34febe9cd269e378117d6681172     delivered   \n",
              "2             PA  c1d2b34febe9cd269e378117d6681172     delivered   \n",
              "3             RS  b1a5d5365d330d10485e0203d54ab9e8     delivered   \n",
              "4             RJ  2e604b3614664aa66867856dba7e61b7     delivered   \n",
              "\n",
              "        horario_pedido      pedido_aprovado    pedido_entregador  \\\n",
              "0  2017-05-16 15:05:35  2017-05-16 15:22:12  2017-05-23 10:47:57   \n",
              "1  2017-11-09 00:50:13  2017-11-10 00:47:48  2017-11-22 01:43:37   \n",
              "2  2017-11-09 00:50:13  2017-11-10 00:47:48  2017-11-22 01:43:37   \n",
              "3  2017-05-07 20:11:26  2017-05-08 22:22:56  2017-05-19 20:16:31   \n",
              "4  2018-02-03 19:45:40  2018-02-04 22:29:19  2018-02-19 18:21:47   \n",
              "\n",
              "       pedido_entregue        data_estimada                       id_vendedor  \\\n",
              "0  2017-05-25 10:35:35  2017-06-05 00:00:00  7c67e1448b00f6e969d365cea6b010ab   \n",
              "1  2017-11-28 00:09:50  2017-12-19 00:00:00  7c67e1448b00f6e969d365cea6b010ab   \n",
              "2  2017-11-28 00:09:50  2017-12-19 00:00:00  7c67e1448b00f6e969d365cea6b010ab   \n",
              "3  2017-05-26 09:54:04  2017-06-12 00:00:00  7c67e1448b00f6e969d365cea6b010ab   \n",
              "4  2018-02-28 21:09:00  2018-03-22 00:00:00  7c67e1448b00f6e969d365cea6b010ab   \n",
              "\n",
              "    preco  frete  pagamento_sequencial pagamento_tipo  pagamento_prestacoes  \\\n",
              "0  124.99  21.88                     1    credit_card                     2   \n",
              "1  112.99  24.90                     1    credit_card                     1   \n",
              "2  112.99  24.90                     1    credit_card                     1   \n",
              "3  124.99  15.62                     1    credit_card                     7   \n",
              "4  106.99  30.59                     1    credit_card                    10   \n",
              "\n",
              "   pagamento_valor  review          categoria  categoria_ingles  cep_vendedor  \\\n",
              "0           146.87       4  moveis_escritorio  office_furniture          8577   \n",
              "1           275.79       1  moveis_escritorio  office_furniture          8577   \n",
              "2           275.79       1  moveis_escritorio  office_furniture          8577   \n",
              "3           140.61       3  moveis_escritorio  office_furniture          8577   \n",
              "4           137.58       4  moveis_escritorio  office_furniture          8577   \n",
              "\n",
              "   cidade_vendedor estado_vendedor  \n",
              "0  itaquaquecetuba              SP  \n",
              "1  itaquaquecetuba              SP  \n",
              "2  itaquaquecetuba              SP  \n",
              "3  itaquaquecetuba              SP  \n",
              "4  itaquaquecetuba              SP  "
            ]
          },
          "metadata": {
            "tags": []
          },
          "execution_count": 3
        }
      ]
    },
    {
      "cell_type": "code",
      "metadata": {
        "id": "IjYSOGoK84hG",
        "outputId": "d9154ccf-f2cd-4342-f54b-a64915db29fd"
      },
      "source": [
        "dados.info()"
      ],
      "execution_count": null,
      "outputs": [
        {
          "output_type": "stream",
          "text": [
            "<class 'pandas.core.frame.DataFrame'>\n",
            "RangeIndex: 116581 entries, 0 to 116580\n",
            "Data columns (total 27 columns):\n",
            " #   Column                Non-Null Count   Dtype  \n",
            "---  ------                --------------   -----  \n",
            " 0   amostra               116581 non-null  int64  \n",
            " 1   id_cliente            116581 non-null  object \n",
            " 2   id_unico_cliente      116581 non-null  object \n",
            " 3   item_id               116581 non-null  int64  \n",
            " 4   cep_cliente           116581 non-null  int64  \n",
            " 5   cidade_cliente        116581 non-null  object \n",
            " 6   estado_cliente        116581 non-null  object \n",
            " 7   id_pedido             116581 non-null  object \n",
            " 8   status_pedido         116581 non-null  object \n",
            " 9   horario_pedido        116581 non-null  object \n",
            " 10  pedido_aprovado       116567 non-null  object \n",
            " 11  pedido_entregador     115368 non-null  object \n",
            " 12  pedido_entregue       114066 non-null  object \n",
            " 13  data_estimada         116581 non-null  object \n",
            " 14  id_vendedor           116581 non-null  object \n",
            " 15  preco                 116581 non-null  float64\n",
            " 16  frete                 116581 non-null  float64\n",
            " 17  pagamento_sequencial  116581 non-null  int64  \n",
            " 18  pagamento_tipo        116581 non-null  object \n",
            " 19  pagamento_prestacoes  116581 non-null  int64  \n",
            " 20  pagamento_valor       116581 non-null  float64\n",
            " 21  review                116581 non-null  int64  \n",
            " 22  categoria             116581 non-null  object \n",
            " 23  categoria_ingles      116581 non-null  object \n",
            " 24  cep_vendedor          116581 non-null  int64  \n",
            " 25  cidade_vendedor       116581 non-null  object \n",
            " 26  estado_vendedor       116581 non-null  object \n",
            "dtypes: float64(3), int64(7), object(17)\n",
            "memory usage: 24.0+ MB\n"
          ],
          "name": "stdout"
        }
      ]
    },
    {
      "cell_type": "markdown",
      "metadata": {
        "id": "Q_AggVoX84hG"
      },
      "source": [
        "## EDA (Análise Exploratória dos Dados)\n",
        "\n",
        "---"
      ]
    },
    {
      "cell_type": "code",
      "metadata": {
        "id": "tw-p4UEd84hG"
      },
      "source": [
        "def plot_perc(st,dados):\n",
        "    plt.figure(figsize=(20,10))\n",
        "    sns.set_style('whitegrid')\n",
        "    ax = sns.countplot(x= st,data=dados,orient='h',palette='rocket',order=dados[st].value_counts().index)\n",
        "    ax.set_ylabel('Contagem',fontsize=17)\n",
        "    \n",
        "    sizes = []\n",
        "    \n",
        "    for i in ax.patches:\n",
        "        height = i.get_height()\n",
        "        sizes.append(height)\n",
        "        ax.text(i.get_x() + i.get_width()/1.6,\n",
        "              height+200,\n",
        "              '{:1.2f}%'.format(height/ 116581*100),\n",
        "              ha = 'center', va='bottom', fontsize=12)\n",
        "        \n",
        "    ax.set_ylim(0,max(sizes)*1.1)\n",
        "    \n",
        "    return ax"
      ],
      "execution_count": null,
      "outputs": []
    },
    {
      "cell_type": "code",
      "metadata": {
        "id": "hvNrj85A84hG",
        "outputId": "5cc701cf-1c82-45fb-cf18-c7dbb25e78be"
      },
      "source": [
        "ax = plot_perc('estado_cliente',dados)\n",
        "ax.set_title('Quantidade de Clientes x Estado', fontsize = 24)\n",
        "ax.set_ylabel('Clientes')\n",
        "\n",
        "ax = ax"
      ],
      "execution_count": null,
      "outputs": [
        {
          "output_type": "display_data",
          "data": {
            "image/png": "[encoded data removed]",
            "text/plain": [
              "<Figure size 1440x720 with 1 Axes>"
            ]
          },
          "metadata": {
            "tags": [],
            "needs_background": "light"
          }
        }
      ]
    },
    {
      "cell_type": "code",
      "metadata": {
        "id": "mc_kEazf84hG",
        "outputId": "9f9ebe22-27e5-4b6d-bfb2-6f15d470067f"
      },
      "source": [
        "ax = plot_perc('estado_vendedor',dados)\n",
        "ax.set_title('Quantidade de Vendedores x Estado', fontsize = 24)\n",
        "ax.set_ylabel('Vendedores')\n",
        "\n",
        "ax = ax"
      ],
      "execution_count": null,
      "outputs": [
        {
          "output_type": "display_data",
          "data": {
            "image/png": "[encoded data removed]",
            "text/plain": [
              "<Figure size 1440x720 with 1 Axes>"
            ]
          },
          "metadata": {
            "tags": []
          }
        }
      ]
    },
    {
      "cell_type": "code",
      "metadata": {
        "id": "2yPJbJAL84hG",
        "outputId": "2a7ff10c-bb4f-45e4-b227-e6d1ca427107"
      },
      "source": [
        "ax = plot_perc('pagamento_tipo',dados)\n",
        "ax.set_title('Tipo de Pagamento x Vendas', fontsize = 24)\n",
        "ax.set_ylabel('Vendas')\n",
        "\n",
        "ax = ax"
      ],
      "execution_count": null,
      "outputs": [
        {
          "output_type": "display_data",
          "data": {
            "image/png": "[encoded data removed]",
            "text/plain": [
              "<Figure size 1440x720 with 1 Axes>"
            ]
          },
          "metadata": {
            "tags": []
          }
        }
      ]
    },
    {
      "cell_type": "markdown",
      "metadata": {
        "id": "-EYvTdqg84hG"
      },
      "source": [
        "## Análise Gráfica\n",
        "\n",
        "> Podemos observar primeiramente que a maioria dos clientes realizam compras por cartão de crédito, seguido de boleto, voucher e uma pequena parcela utiliza o cartão de débito como forma de pagamento. Seria interessante aumentar as promoções para pagamentos à vista visando aumentar o número de vendas em boleto ou cartão de débito.\n",
        "\n",
        "> Também percebe-se que a maioria dos vendedores e compradores estão no estado de São Paulo.\n",
        "\n",
        "---"
      ]
    },
    {
      "cell_type": "markdown",
      "metadata": {
        "id": "ARV1HWuI84hG"
      },
      "source": [
        "## Definindo modelo RFM\n",
        "\n",
        " RFM é a junção de três siglas: ***Recência, Frequência e Monetariedade***. Essa técnica lhe permite entender melhor seu cliente ao verificar quando foi sua última compra, quantas vezes ele já comprou e quanto já gastou com na empresa.\n",
        "\n",
        "> ### Recência (R)\n",
        "> ##### Há quantos dias foi a última compra desse cliente?\n",
        "\n",
        "> ### Frequência (F)\n",
        "> ##### Quantas compras esse cliente já fez na sua empresa, desde que se cadastrou?\n",
        "\n",
        "> ### Monetaridade (M)\n",
        "> ##### Quanto esse cliente já gastou em dinheiro na sua empresa?"
      ]
    },
    {
      "cell_type": "code",
      "metadata": {
        "id": "O5LNVH7Q84hH",
        "outputId": "1e098b62-b254-419a-e76f-985297812504"
      },
      "source": [
        "df_olist = dados[['id_unico_cliente','id_cliente','horario_pedido','item_id','preco']]\n",
        "df_olist.head()"
      ],
      "execution_count": null,
      "outputs": [
        {
          "output_type": "execute_result",
          "data": {
            "text/html": [
              "<div>\n",
              "<style scoped>\n",
              "    .dataframe tbody tr th:only-of-type {\n",
              "        vertical-align: middle;\n",
              "    }\n",
              "\n",
              "    .dataframe tbody tr th {\n",
              "        vertical-align: top;\n",
              "    }\n",
              "\n",
              "    .dataframe thead th {\n",
              "        text-align: right;\n",
              "    }\n",
              "</style>\n",
              "<table border=\"1\" class=\"dataframe\">\n",
              "  <thead>\n",
              "    <tr style=\"text-align: right;\">\n",
              "      <th></th>\n",
              "      <th>id_unico_cliente</th>\n",
              "      <th>id_cliente</th>\n",
              "      <th>horario_pedido</th>\n",
              "      <th>item_id</th>\n",
              "      <th>preco</th>\n",
              "    </tr>\n",
              "  </thead>\n",
              "  <tbody>\n",
              "    <tr>\n",
              "      <th>0</th>\n",
              "      <td>861eff4711a542e4b93843c6dd7febb0</td>\n",
              "      <td>06b8999e2fba1a1fbc88172c00ba8bc7</td>\n",
              "      <td>2017-05-16 15:05:35</td>\n",
              "      <td>1</td>\n",
              "      <td>124.99</td>\n",
              "    </tr>\n",
              "    <tr>\n",
              "      <th>1</th>\n",
              "      <td>9eae34bbd3a474ec5d07949ca7de67c0</td>\n",
              "      <td>8912fc0c3bbf1e2fbf35819e21706718</td>\n",
              "      <td>2017-11-09 00:50:13</td>\n",
              "      <td>1</td>\n",
              "      <td>112.99</td>\n",
              "    </tr>\n",
              "    <tr>\n",
              "      <th>2</th>\n",
              "      <td>9eae34bbd3a474ec5d07949ca7de67c0</td>\n",
              "      <td>8912fc0c3bbf1e2fbf35819e21706718</td>\n",
              "      <td>2017-11-09 00:50:13</td>\n",
              "      <td>2</td>\n",
              "      <td>112.99</td>\n",
              "    </tr>\n",
              "    <tr>\n",
              "      <th>3</th>\n",
              "      <td>3c799d181c34d51f6d44bbbc563024db</td>\n",
              "      <td>f0ac8e5a239118859b1734e1087cbb1f</td>\n",
              "      <td>2017-05-07 20:11:26</td>\n",
              "      <td>1</td>\n",
              "      <td>124.99</td>\n",
              "    </tr>\n",
              "    <tr>\n",
              "      <th>4</th>\n",
              "      <td>23397e992b09769faf5e66f9e171a241</td>\n",
              "      <td>6bc8d08963a135220ed6c6d098831f84</td>\n",
              "      <td>2018-02-03 19:45:40</td>\n",
              "      <td>1</td>\n",
              "      <td>106.99</td>\n",
              "    </tr>\n",
              "  </tbody>\n",
              "</table>\n",
              "</div>"
            ],
            "text/plain": [
              "                   id_unico_cliente                        id_cliente  \\\n",
              "0  861eff4711a542e4b93843c6dd7febb0  06b8999e2fba1a1fbc88172c00ba8bc7   \n",
              "1  9eae34bbd3a474ec5d07949ca7de67c0  8912fc0c3bbf1e2fbf35819e21706718   \n",
              "2  9eae34bbd3a474ec5d07949ca7de67c0  8912fc0c3bbf1e2fbf35819e21706718   \n",
              "3  3c799d181c34d51f6d44bbbc563024db  f0ac8e5a239118859b1734e1087cbb1f   \n",
              "4  23397e992b09769faf5e66f9e171a241  6bc8d08963a135220ed6c6d098831f84   \n",
              "\n",
              "        horario_pedido  item_id   preco  \n",
              "0  2017-05-16 15:05:35        1  124.99  \n",
              "1  2017-11-09 00:50:13        1  112.99  \n",
              "2  2017-11-09 00:50:13        2  112.99  \n",
              "3  2017-05-07 20:11:26        1  124.99  \n",
              "4  2018-02-03 19:45:40        1  106.99  "
            ]
          },
          "metadata": {
            "tags": []
          },
          "execution_count": 8
        }
      ]
    },
    {
      "cell_type": "code",
      "metadata": {
        "id": "QHwtdCpS84hH",
        "outputId": "f38ae343-21cd-42ff-d68e-3eae522b428c"
      },
      "source": [
        "df_compra = dados.groupby('id_unico_cliente')['horario_pedido'].max().reset_index()\n",
        "df_compra.columns = ['id_unico_cliente','DataMaxCompra']\n",
        "df_compra['DataMaxCompra'] = pd.to_datetime(df_compra['DataMaxCompra'])\n",
        "df_compra.head()"
      ],
      "execution_count": null,
      "outputs": [
        {
          "output_type": "execute_result",
          "data": {
            "text/html": [
              "<div>\n",
              "<style scoped>\n",
              "    .dataframe tbody tr th:only-of-type {\n",
              "        vertical-align: middle;\n",
              "    }\n",
              "\n",
              "    .dataframe tbody tr th {\n",
              "        vertical-align: top;\n",
              "    }\n",
              "\n",
              "    .dataframe thead th {\n",
              "        text-align: right;\n",
              "    }\n",
              "</style>\n",
              "<table border=\"1\" class=\"dataframe\">\n",
              "  <thead>\n",
              "    <tr style=\"text-align: right;\">\n",
              "      <th></th>\n",
              "      <th>id_unico_cliente</th>\n",
              "      <th>DataMaxCompra</th>\n",
              "    </tr>\n",
              "  </thead>\n",
              "  <tbody>\n",
              "    <tr>\n",
              "      <th>0</th>\n",
              "      <td>0000366f3b9a7992bf8c76cfdf3221e2</td>\n",
              "      <td>2018-05-10 10:56:27</td>\n",
              "    </tr>\n",
              "    <tr>\n",
              "      <th>1</th>\n",
              "      <td>0000b849f77a49e4a4ce2b2a4ca5be3f</td>\n",
              "      <td>2018-05-07 11:11:27</td>\n",
              "    </tr>\n",
              "    <tr>\n",
              "      <th>2</th>\n",
              "      <td>0000f46a3911fa3c0805444483337064</td>\n",
              "      <td>2017-03-10 21:05:03</td>\n",
              "    </tr>\n",
              "    <tr>\n",
              "      <th>3</th>\n",
              "      <td>0000f6ccb0745a6a4b88665a16c9f078</td>\n",
              "      <td>2017-10-12 20:29:41</td>\n",
              "    </tr>\n",
              "    <tr>\n",
              "      <th>4</th>\n",
              "      <td>0004aac84e0df4da2b147fca70cf8255</td>\n",
              "      <td>2017-11-14 19:45:42</td>\n",
              "    </tr>\n",
              "  </tbody>\n",
              "</table>\n",
              "</div>"
            ],
            "text/plain": [
              "                   id_unico_cliente       DataMaxCompra\n",
              "0  0000366f3b9a7992bf8c76cfdf3221e2 2018-05-10 10:56:27\n",
              "1  0000b849f77a49e4a4ce2b2a4ca5be3f 2018-05-07 11:11:27\n",
              "2  0000f46a3911fa3c0805444483337064 2017-03-10 21:05:03\n",
              "3  0000f6ccb0745a6a4b88665a16c9f078 2017-10-12 20:29:41\n",
              "4  0004aac84e0df4da2b147fca70cf8255 2017-11-14 19:45:42"
            ]
          },
          "metadata": {
            "tags": []
          },
          "execution_count": 9
        }
      ]
    },
    {
      "cell_type": "code",
      "metadata": {
        "id": "cWkRWwfe84hH",
        "outputId": "1146b3fd-515f-4375-bddd-1d57b24b7607"
      },
      "source": [
        "df_compra['Recencia'] = (df_compra['DataMaxCompra'].max() - df_compra['DataMaxCompra']).dt.days\n",
        "df_compra.head()"
      ],
      "execution_count": null,
      "outputs": [
        {
          "output_type": "execute_result",
          "data": {
            "text/html": [
              "<div>\n",
              "<style scoped>\n",
              "    .dataframe tbody tr th:only-of-type {\n",
              "        vertical-align: middle;\n",
              "    }\n",
              "\n",
              "    .dataframe tbody tr th {\n",
              "        vertical-align: top;\n",
              "    }\n",
              "\n",
              "    .dataframe thead th {\n",
              "        text-align: right;\n",
              "    }\n",
              "</style>\n",
              "<table border=\"1\" class=\"dataframe\">\n",
              "  <thead>\n",
              "    <tr style=\"text-align: right;\">\n",
              "      <th></th>\n",
              "      <th>id_unico_cliente</th>\n",
              "      <th>DataMaxCompra</th>\n",
              "      <th>Recencia</th>\n",
              "    </tr>\n",
              "  </thead>\n",
              "  <tbody>\n",
              "    <tr>\n",
              "      <th>0</th>\n",
              "      <td>0000366f3b9a7992bf8c76cfdf3221e2</td>\n",
              "      <td>2018-05-10 10:56:27</td>\n",
              "      <td>115</td>\n",
              "    </tr>\n",
              "    <tr>\n",
              "      <th>1</th>\n",
              "      <td>0000b849f77a49e4a4ce2b2a4ca5be3f</td>\n",
              "      <td>2018-05-07 11:11:27</td>\n",
              "      <td>118</td>\n",
              "    </tr>\n",
              "    <tr>\n",
              "      <th>2</th>\n",
              "      <td>0000f46a3911fa3c0805444483337064</td>\n",
              "      <td>2017-03-10 21:05:03</td>\n",
              "      <td>541</td>\n",
              "    </tr>\n",
              "    <tr>\n",
              "      <th>3</th>\n",
              "      <td>0000f6ccb0745a6a4b88665a16c9f078</td>\n",
              "      <td>2017-10-12 20:29:41</td>\n",
              "      <td>325</td>\n",
              "    </tr>\n",
              "    <tr>\n",
              "      <th>4</th>\n",
              "      <td>0004aac84e0df4da2b147fca70cf8255</td>\n",
              "      <td>2017-11-14 19:45:42</td>\n",
              "      <td>292</td>\n",
              "    </tr>\n",
              "  </tbody>\n",
              "</table>\n",
              "</div>"
            ],
            "text/plain": [
              "                   id_unico_cliente       DataMaxCompra  Recencia\n",
              "0  0000366f3b9a7992bf8c76cfdf3221e2 2018-05-10 10:56:27       115\n",
              "1  0000b849f77a49e4a4ce2b2a4ca5be3f 2018-05-07 11:11:27       118\n",
              "2  0000f46a3911fa3c0805444483337064 2017-03-10 21:05:03       541\n",
              "3  0000f6ccb0745a6a4b88665a16c9f078 2017-10-12 20:29:41       325\n",
              "4  0004aac84e0df4da2b147fca70cf8255 2017-11-14 19:45:42       292"
            ]
          },
          "metadata": {
            "tags": []
          },
          "execution_count": 10
        }
      ]
    },
    {
      "cell_type": "markdown",
      "metadata": {
        "id": "7DzHtbUh84hH"
      },
      "source": [
        "Juntando os Datasets"
      ]
    },
    {
      "cell_type": "code",
      "metadata": {
        "id": "o-JqpG_k84hI",
        "outputId": "a1853f7e-3435-44bc-a935-ef326ef6a108"
      },
      "source": [
        "df_usuario = pd.merge(df_olist, df_compra[['id_unico_cliente','Recencia']], on ='id_unico_cliente' )\n",
        "df_usuario.head()"
      ],
      "execution_count": null,
      "outputs": [
        {
          "output_type": "execute_result",
          "data": {
            "text/html": [
              "<div>\n",
              "<style scoped>\n",
              "    .dataframe tbody tr th:only-of-type {\n",
              "        vertical-align: middle;\n",
              "    }\n",
              "\n",
              "    .dataframe tbody tr th {\n",
              "        vertical-align: top;\n",
              "    }\n",
              "\n",
              "    .dataframe thead th {\n",
              "        text-align: right;\n",
              "    }\n",
              "</style>\n",
              "<table border=\"1\" class=\"dataframe\">\n",
              "  <thead>\n",
              "    <tr style=\"text-align: right;\">\n",
              "      <th></th>\n",
              "      <th>id_unico_cliente</th>\n",
              "      <th>id_cliente</th>\n",
              "      <th>horario_pedido</th>\n",
              "      <th>item_id</th>\n",
              "      <th>preco</th>\n",
              "      <th>Recencia</th>\n",
              "    </tr>\n",
              "  </thead>\n",
              "  <tbody>\n",
              "    <tr>\n",
              "      <th>0</th>\n",
              "      <td>861eff4711a542e4b93843c6dd7febb0</td>\n",
              "      <td>06b8999e2fba1a1fbc88172c00ba8bc7</td>\n",
              "      <td>2017-05-16 15:05:35</td>\n",
              "      <td>1</td>\n",
              "      <td>124.99</td>\n",
              "      <td>474</td>\n",
              "    </tr>\n",
              "    <tr>\n",
              "      <th>1</th>\n",
              "      <td>9eae34bbd3a474ec5d07949ca7de67c0</td>\n",
              "      <td>8912fc0c3bbf1e2fbf35819e21706718</td>\n",
              "      <td>2017-11-09 00:50:13</td>\n",
              "      <td>1</td>\n",
              "      <td>112.99</td>\n",
              "      <td>298</td>\n",
              "    </tr>\n",
              "    <tr>\n",
              "      <th>2</th>\n",
              "      <td>9eae34bbd3a474ec5d07949ca7de67c0</td>\n",
              "      <td>8912fc0c3bbf1e2fbf35819e21706718</td>\n",
              "      <td>2017-11-09 00:50:13</td>\n",
              "      <td>2</td>\n",
              "      <td>112.99</td>\n",
              "      <td>298</td>\n",
              "    </tr>\n",
              "    <tr>\n",
              "      <th>3</th>\n",
              "      <td>3c799d181c34d51f6d44bbbc563024db</td>\n",
              "      <td>f0ac8e5a239118859b1734e1087cbb1f</td>\n",
              "      <td>2017-05-07 20:11:26</td>\n",
              "      <td>1</td>\n",
              "      <td>124.99</td>\n",
              "      <td>483</td>\n",
              "    </tr>\n",
              "    <tr>\n",
              "      <th>4</th>\n",
              "      <td>23397e992b09769faf5e66f9e171a241</td>\n",
              "      <td>6bc8d08963a135220ed6c6d098831f84</td>\n",
              "      <td>2018-02-03 19:45:40</td>\n",
              "      <td>1</td>\n",
              "      <td>106.99</td>\n",
              "      <td>211</td>\n",
              "    </tr>\n",
              "  </tbody>\n",
              "</table>\n",
              "</div>"
            ],
            "text/plain": [
              "                   id_unico_cliente                        id_cliente  \\\n",
              "0  861eff4711a542e4b93843c6dd7febb0  06b8999e2fba1a1fbc88172c00ba8bc7   \n",
              "1  9eae34bbd3a474ec5d07949ca7de67c0  8912fc0c3bbf1e2fbf35819e21706718   \n",
              "2  9eae34bbd3a474ec5d07949ca7de67c0  8912fc0c3bbf1e2fbf35819e21706718   \n",
              "3  3c799d181c34d51f6d44bbbc563024db  f0ac8e5a239118859b1734e1087cbb1f   \n",
              "4  23397e992b09769faf5e66f9e171a241  6bc8d08963a135220ed6c6d098831f84   \n",
              "\n",
              "        horario_pedido  item_id   preco  Recencia  \n",
              "0  2017-05-16 15:05:35        1  124.99       474  \n",
              "1  2017-11-09 00:50:13        1  112.99       298  \n",
              "2  2017-11-09 00:50:13        2  112.99       298  \n",
              "3  2017-05-07 20:11:26        1  124.99       483  \n",
              "4  2018-02-03 19:45:40        1  106.99       211  "
            ]
          },
          "metadata": {
            "tags": []
          },
          "execution_count": 11
        }
      ]
    },
    {
      "cell_type": "code",
      "metadata": {
        "id": "8XiLXIXm84hI"
      },
      "source": [
        "def calcula_wcss(data):\n",
        "    wcss = []\n",
        "    for k in range(1,15):\n",
        "        kmeans = KMeans(n_clusters = k)\n",
        "        kmeans.fit(X=data)\n",
        "        data['Clusters'] = kmeans.labels_\n",
        "        wcss.append(kmeans.inertia_)\n",
        "    return wcss"
      ],
      "execution_count": null,
      "outputs": []
    },
    {
      "cell_type": "code",
      "metadata": {
        "id": "Xclg-X0B84hI"
      },
      "source": [
        "df_recencia = df_usuario[['Recencia']]\n",
        "\n",
        "soma_quadrados = calcula_wcss(df_recencia)"
      ],
      "execution_count": null,
      "outputs": []
    },
    {
      "cell_type": "code",
      "metadata": {
        "id": "TZtfGbga84hI",
        "outputId": "a27d1fa3-93d8-42a2-ce9f-564383837912"
      },
      "source": [
        "plt.figure(figsize=(10,5))\n",
        "plt.plot(soma_quadrados)\n",
        "plt.xlabel('Número de clusters')\n",
        "plt.show()"
      ],
      "execution_count": null,
      "outputs": [
        {
          "output_type": "display_data",
          "data": {
            "image/png": "[encoded data removed]",
            "text/plain": [
              "<Figure size 720x360 with 1 Axes>"
            ]
          },
          "metadata": {
            "tags": [],
            "needs_background": "light"
          }
        }
      ]
    },
    {
      "cell_type": "markdown",
      "metadata": {
        "id": "a-59beNR84hI"
      },
      "source": [
        "## Número Ideal de Clusters\n",
        "$$ \\overline{D}(P_0, P_1, (x,y)) = \\dfrac{|(y_1 - y_0) x - (x_1 - x_0) y + x_1 y_0 - y_1 x_0 |}{\\sqrt{(y_1 - y_0) ^2 + (x_1 - x_0) ^2}}$$"
      ]
    },
    {
      "cell_type": "code",
      "metadata": {
        "id": "7Opi7phj84hI"
      },
      "source": [
        "def numero_clusters(wcss):\n",
        "    x1, y1 = 2, wcss[0]\n",
        "    x2, y2 = 15, wcss[len(wcss)-1]\n",
        "    \n",
        "    distancia = []\n",
        "    for i in range(len(wcss)):\n",
        "        x0 = i+2\n",
        "        y0 = wcss[i]\n",
        "        \n",
        "        numerador = abs((y2 - y1)*x0 - (x2 - x1)*y0 + x2*y1 - y2*x1)\n",
        "        denominador = math.sqrt((y2 - y1)**2 + (x2 - x1)**2)\n",
        "        distancia.append(numerador/denominador)\n",
        "    return distancia.index(max(distancia)) + 2"
      ],
      "execution_count": null,
      "outputs": []
    },
    {
      "cell_type": "code",
      "metadata": {
        "id": "a5-HKqd384hI",
        "outputId": "5513f3a2-785e-47d1-ed94-fbbc8db5358e"
      },
      "source": [
        "n = numero_clusters(soma_quadrados)\n",
        "print('Melhor número de Cluster:',n)"
      ],
      "execution_count": null,
      "outputs": [
        {
          "output_type": "stream",
          "text": [
            "Melhor número de Cluster: 4\n"
          ],
          "name": "stdout"
        }
      ]
    },
    {
      "cell_type": "code",
      "metadata": {
        "id": "O8a1KyQv84hI",
        "outputId": "0b08a73d-5344-4238-a651-87fef1a8ec83"
      },
      "source": [
        "kmeans=KMeans(n_clusters=4)\n",
        "df_usuario['RecenciaCluster'] = kmeans.fit_predict(df_recencia)\n",
        "df_usuario.head()"
      ],
      "execution_count": null,
      "outputs": [
        {
          "output_type": "execute_result",
          "data": {
            "text/html": [
              "<div>\n",
              "<style scoped>\n",
              "    .dataframe tbody tr th:only-of-type {\n",
              "        vertical-align: middle;\n",
              "    }\n",
              "\n",
              "    .dataframe tbody tr th {\n",
              "        vertical-align: top;\n",
              "    }\n",
              "\n",
              "    .dataframe thead th {\n",
              "        text-align: right;\n",
              "    }\n",
              "</style>\n",
              "<table border=\"1\" class=\"dataframe\">\n",
              "  <thead>\n",
              "    <tr style=\"text-align: right;\">\n",
              "      <th></th>\n",
              "      <th>id_unico_cliente</th>\n",
              "      <th>id_cliente</th>\n",
              "      <th>horario_pedido</th>\n",
              "      <th>item_id</th>\n",
              "      <th>preco</th>\n",
              "      <th>Recencia</th>\n",
              "      <th>RecenciaCluster</th>\n",
              "    </tr>\n",
              "  </thead>\n",
              "  <tbody>\n",
              "    <tr>\n",
              "      <th>0</th>\n",
              "      <td>861eff4711a542e4b93843c6dd7febb0</td>\n",
              "      <td>06b8999e2fba1a1fbc88172c00ba8bc7</td>\n",
              "      <td>2017-05-16 15:05:35</td>\n",
              "      <td>1</td>\n",
              "      <td>124.99</td>\n",
              "      <td>474</td>\n",
              "      <td>1</td>\n",
              "    </tr>\n",
              "    <tr>\n",
              "      <th>1</th>\n",
              "      <td>9eae34bbd3a474ec5d07949ca7de67c0</td>\n",
              "      <td>8912fc0c3bbf1e2fbf35819e21706718</td>\n",
              "      <td>2017-11-09 00:50:13</td>\n",
              "      <td>1</td>\n",
              "      <td>112.99</td>\n",
              "      <td>298</td>\n",
              "      <td>3</td>\n",
              "    </tr>\n",
              "    <tr>\n",
              "      <th>2</th>\n",
              "      <td>9eae34bbd3a474ec5d07949ca7de67c0</td>\n",
              "      <td>8912fc0c3bbf1e2fbf35819e21706718</td>\n",
              "      <td>2017-11-09 00:50:13</td>\n",
              "      <td>2</td>\n",
              "      <td>112.99</td>\n",
              "      <td>298</td>\n",
              "      <td>3</td>\n",
              "    </tr>\n",
              "    <tr>\n",
              "      <th>3</th>\n",
              "      <td>3c799d181c34d51f6d44bbbc563024db</td>\n",
              "      <td>f0ac8e5a239118859b1734e1087cbb1f</td>\n",
              "      <td>2017-05-07 20:11:26</td>\n",
              "      <td>1</td>\n",
              "      <td>124.99</td>\n",
              "      <td>483</td>\n",
              "      <td>1</td>\n",
              "    </tr>\n",
              "    <tr>\n",
              "      <th>4</th>\n",
              "      <td>23397e992b09769faf5e66f9e171a241</td>\n",
              "      <td>6bc8d08963a135220ed6c6d098831f84</td>\n",
              "      <td>2018-02-03 19:45:40</td>\n",
              "      <td>1</td>\n",
              "      <td>106.99</td>\n",
              "      <td>211</td>\n",
              "      <td>2</td>\n",
              "    </tr>\n",
              "  </tbody>\n",
              "</table>\n",
              "</div>"
            ],
            "text/plain": [
              "                   id_unico_cliente                        id_cliente  \\\n",
              "0  861eff4711a542e4b93843c6dd7febb0  06b8999e2fba1a1fbc88172c00ba8bc7   \n",
              "1  9eae34bbd3a474ec5d07949ca7de67c0  8912fc0c3bbf1e2fbf35819e21706718   \n",
              "2  9eae34bbd3a474ec5d07949ca7de67c0  8912fc0c3bbf1e2fbf35819e21706718   \n",
              "3  3c799d181c34d51f6d44bbbc563024db  f0ac8e5a239118859b1734e1087cbb1f   \n",
              "4  23397e992b09769faf5e66f9e171a241  6bc8d08963a135220ed6c6d098831f84   \n",
              "\n",
              "        horario_pedido  item_id   preco  Recencia  RecenciaCluster  \n",
              "0  2017-05-16 15:05:35        1  124.99       474                1  \n",
              "1  2017-11-09 00:50:13        1  112.99       298                3  \n",
              "2  2017-11-09 00:50:13        2  112.99       298                3  \n",
              "3  2017-05-07 20:11:26        1  124.99       483                1  \n",
              "4  2018-02-03 19:45:40        1  106.99       211                2  "
            ]
          },
          "metadata": {
            "tags": []
          },
          "execution_count": 17
        }
      ]
    },
    {
      "cell_type": "code",
      "metadata": {
        "id": "aIVtJsF784hI",
        "outputId": "f79afd80-b792-4688-8903-f231dafd9782"
      },
      "source": [
        "agrupado_por_cluster = df_usuario.groupby('RecenciaCluster')['Recencia'].mean().reset_index()\n",
        "agrupado_por_cluster.head()"
      ],
      "execution_count": null,
      "outputs": [
        {
          "output_type": "execute_result",
          "data": {
            "text/html": [
              "<div>\n",
              "<style scoped>\n",
              "    .dataframe tbody tr th:only-of-type {\n",
              "        vertical-align: middle;\n",
              "    }\n",
              "\n",
              "    .dataframe tbody tr th {\n",
              "        vertical-align: top;\n",
              "    }\n",
              "\n",
              "    .dataframe thead th {\n",
              "        text-align: right;\n",
              "    }\n",
              "</style>\n",
              "<table border=\"1\" class=\"dataframe\">\n",
              "  <thead>\n",
              "    <tr style=\"text-align: right;\">\n",
              "      <th></th>\n",
              "      <th>RecenciaCluster</th>\n",
              "      <th>Recencia</th>\n",
              "    </tr>\n",
              "  </thead>\n",
              "  <tbody>\n",
              "    <tr>\n",
              "      <th>0</th>\n",
              "      <td>0</td>\n",
              "      <td>67.291214</td>\n",
              "    </tr>\n",
              "    <tr>\n",
              "      <th>1</th>\n",
              "      <td>1</td>\n",
              "      <td>490.622269</td>\n",
              "    </tr>\n",
              "    <tr>\n",
              "      <th>2</th>\n",
              "      <td>2</td>\n",
              "      <td>188.381490</td>\n",
              "    </tr>\n",
              "    <tr>\n",
              "      <th>3</th>\n",
              "      <td>3</td>\n",
              "      <td>320.233294</td>\n",
              "    </tr>\n",
              "  </tbody>\n",
              "</table>\n",
              "</div>"
            ],
            "text/plain": [
              "   RecenciaCluster    Recencia\n",
              "0                0   67.291214\n",
              "1                1  490.622269\n",
              "2                2  188.381490\n",
              "3                3  320.233294"
            ]
          },
          "metadata": {
            "tags": []
          },
          "execution_count": 18
        }
      ]
    },
    {
      "cell_type": "code",
      "metadata": {
        "id": "0deUB_1084hJ",
        "outputId": "e96c188a-9014-4aec-836c-62deb6ba46b3"
      },
      "source": [
        "agrupado_por_cluster_ordenado = agrupado_por_cluster.sort_values(by='Recencia', ascending=False).reset_index(drop=True)\n",
        "agrupado_por_cluster_ordenado['index'] = agrupado_por_cluster_ordenado.index\n",
        "\n",
        "agrupado_por_cluster_ordenado"
      ],
      "execution_count": null,
      "outputs": [
        {
          "output_type": "execute_result",
          "data": {
            "text/html": [
              "<div>\n",
              "<style scoped>\n",
              "    .dataframe tbody tr th:only-of-type {\n",
              "        vertical-align: middle;\n",
              "    }\n",
              "\n",
              "    .dataframe tbody tr th {\n",
              "        vertical-align: top;\n",
              "    }\n",
              "\n",
              "    .dataframe thead th {\n",
              "        text-align: right;\n",
              "    }\n",
              "</style>\n",
              "<table border=\"1\" class=\"dataframe\">\n",
              "  <thead>\n",
              "    <tr style=\"text-align: right;\">\n",
              "      <th></th>\n",
              "      <th>RecenciaCluster</th>\n",
              "      <th>Recencia</th>\n",
              "      <th>index</th>\n",
              "    </tr>\n",
              "  </thead>\n",
              "  <tbody>\n",
              "    <tr>\n",
              "      <th>0</th>\n",
              "      <td>1</td>\n",
              "      <td>490.622269</td>\n",
              "      <td>0</td>\n",
              "    </tr>\n",
              "    <tr>\n",
              "      <th>1</th>\n",
              "      <td>3</td>\n",
              "      <td>320.233294</td>\n",
              "      <td>1</td>\n",
              "    </tr>\n",
              "    <tr>\n",
              "      <th>2</th>\n",
              "      <td>2</td>\n",
              "      <td>188.381490</td>\n",
              "      <td>2</td>\n",
              "    </tr>\n",
              "    <tr>\n",
              "      <th>3</th>\n",
              "      <td>0</td>\n",
              "      <td>67.291214</td>\n",
              "      <td>3</td>\n",
              "    </tr>\n",
              "  </tbody>\n",
              "</table>\n",
              "</div>"
            ],
            "text/plain": [
              "   RecenciaCluster    Recencia  index\n",
              "0                1  490.622269      0\n",
              "1                3  320.233294      1\n",
              "2                2  188.381490      2\n",
              "3                0   67.291214      3"
            ]
          },
          "metadata": {
            "tags": []
          },
          "execution_count": 19
        }
      ]
    },
    {
      "cell_type": "code",
      "metadata": {
        "id": "ZkhrL8NG84hJ",
        "outputId": "d81686cd-e64a-4ebf-95e4-58a2120f9013"
      },
      "source": [
        "juntando_cluster = pd.merge(df_usuario, agrupado_por_cluster_ordenado[['RecenciaCluster', 'index']], on = 'RecenciaCluster')\n",
        "juntando_cluster.head()"
      ],
      "execution_count": null,
      "outputs": [
        {
          "output_type": "execute_result",
          "data": {
            "text/html": [
              "<div>\n",
              "<style scoped>\n",
              "    .dataframe tbody tr th:only-of-type {\n",
              "        vertical-align: middle;\n",
              "    }\n",
              "\n",
              "    .dataframe tbody tr th {\n",
              "        vertical-align: top;\n",
              "    }\n",
              "\n",
              "    .dataframe thead th {\n",
              "        text-align: right;\n",
              "    }\n",
              "</style>\n",
              "<table border=\"1\" class=\"dataframe\">\n",
              "  <thead>\n",
              "    <tr style=\"text-align: right;\">\n",
              "      <th></th>\n",
              "      <th>id_unico_cliente</th>\n",
              "      <th>id_cliente</th>\n",
              "      <th>horario_pedido</th>\n",
              "      <th>item_id</th>\n",
              "      <th>preco</th>\n",
              "      <th>Recencia</th>\n",
              "      <th>RecenciaCluster</th>\n",
              "      <th>index</th>\n",
              "    </tr>\n",
              "  </thead>\n",
              "  <tbody>\n",
              "    <tr>\n",
              "      <th>0</th>\n",
              "      <td>861eff4711a542e4b93843c6dd7febb0</td>\n",
              "      <td>06b8999e2fba1a1fbc88172c00ba8bc7</td>\n",
              "      <td>2017-05-16 15:05:35</td>\n",
              "      <td>1</td>\n",
              "      <td>124.99</td>\n",
              "      <td>474</td>\n",
              "      <td>1</td>\n",
              "      <td>0</td>\n",
              "    </tr>\n",
              "    <tr>\n",
              "      <th>1</th>\n",
              "      <td>3c799d181c34d51f6d44bbbc563024db</td>\n",
              "      <td>f0ac8e5a239118859b1734e1087cbb1f</td>\n",
              "      <td>2017-05-07 20:11:26</td>\n",
              "      <td>1</td>\n",
              "      <td>124.99</td>\n",
              "      <td>483</td>\n",
              "      <td>1</td>\n",
              "      <td>0</td>\n",
              "    </tr>\n",
              "    <tr>\n",
              "      <th>2</th>\n",
              "      <td>567ab47ca4deb92d46dbf54dce07d0a7</td>\n",
              "      <td>fd3a0b1bd209f0e7d420c9c3d1127613</td>\n",
              "      <td>2017-03-23 15:10:17</td>\n",
              "      <td>1</td>\n",
              "      <td>126.99</td>\n",
              "      <td>528</td>\n",
              "      <td>1</td>\n",
              "      <td>0</td>\n",
              "    </tr>\n",
              "    <tr>\n",
              "      <th>3</th>\n",
              "      <td>f40ab89b622248b7ca125af4b486b887</td>\n",
              "      <td>fbd40c083aa8cddebb5265b2ba6aaf2e</td>\n",
              "      <td>2017-05-16 10:00:49</td>\n",
              "      <td>1</td>\n",
              "      <td>124.99</td>\n",
              "      <td>474</td>\n",
              "      <td>1</td>\n",
              "      <td>0</td>\n",
              "    </tr>\n",
              "    <tr>\n",
              "      <th>4</th>\n",
              "      <td>749943913a9851a39c9baf51877fbab6</td>\n",
              "      <td>10558ef4afea173bfb5e2cbe3d5b0bb5</td>\n",
              "      <td>2017-03-18 23:04:36</td>\n",
              "      <td>1</td>\n",
              "      <td>126.99</td>\n",
              "      <td>533</td>\n",
              "      <td>1</td>\n",
              "      <td>0</td>\n",
              "    </tr>\n",
              "  </tbody>\n",
              "</table>\n",
              "</div>"
            ],
            "text/plain": [
              "                   id_unico_cliente                        id_cliente  \\\n",
              "0  861eff4711a542e4b93843c6dd7febb0  06b8999e2fba1a1fbc88172c00ba8bc7   \n",
              "1  3c799d181c34d51f6d44bbbc563024db  f0ac8e5a239118859b1734e1087cbb1f   \n",
              "2  567ab47ca4deb92d46dbf54dce07d0a7  fd3a0b1bd209f0e7d420c9c3d1127613   \n",
              "3  f40ab89b622248b7ca125af4b486b887  fbd40c083aa8cddebb5265b2ba6aaf2e   \n",
              "4  749943913a9851a39c9baf51877fbab6  10558ef4afea173bfb5e2cbe3d5b0bb5   \n",
              "\n",
              "        horario_pedido  item_id   preco  Recencia  RecenciaCluster  index  \n",
              "0  2017-05-16 15:05:35        1  124.99       474                1      0  \n",
              "1  2017-05-07 20:11:26        1  124.99       483                1      0  \n",
              "2  2017-03-23 15:10:17        1  126.99       528                1      0  \n",
              "3  2017-05-16 10:00:49        1  124.99       474                1      0  \n",
              "4  2017-03-18 23:04:36        1  126.99       533                1      0  "
            ]
          },
          "metadata": {
            "tags": []
          },
          "execution_count": 20
        }
      ]
    },
    {
      "cell_type": "code",
      "metadata": {
        "id": "eE_w_2yd84hJ",
        "outputId": "57c81543-6815-42b3-f1b3-2ffa1006e3a1"
      },
      "source": [
        "df_final = juntando_cluster.drop(['RecenciaCluster'], axis = 1)\n",
        "df_final = df_final.rename(columns={'index':'RecenciaCluster'})\n",
        "\n",
        "df_final.head()"
      ],
      "execution_count": null,
      "outputs": [
        {
          "output_type": "execute_result",
          "data": {
            "text/html": [
              "<div>\n",
              "<style scoped>\n",
              "    .dataframe tbody tr th:only-of-type {\n",
              "        vertical-align: middle;\n",
              "    }\n",
              "\n",
              "    .dataframe tbody tr th {\n",
              "        vertical-align: top;\n",
              "    }\n",
              "\n",
              "    .dataframe thead th {\n",
              "        text-align: right;\n",
              "    }\n",
              "</style>\n",
              "<table border=\"1\" class=\"dataframe\">\n",
              "  <thead>\n",
              "    <tr style=\"text-align: right;\">\n",
              "      <th></th>\n",
              "      <th>id_unico_cliente</th>\n",
              "      <th>id_cliente</th>\n",
              "      <th>horario_pedido</th>\n",
              "      <th>item_id</th>\n",
              "      <th>preco</th>\n",
              "      <th>Recencia</th>\n",
              "      <th>RecenciaCluster</th>\n",
              "    </tr>\n",
              "  </thead>\n",
              "  <tbody>\n",
              "    <tr>\n",
              "      <th>0</th>\n",
              "      <td>861eff4711a542e4b93843c6dd7febb0</td>\n",
              "      <td>06b8999e2fba1a1fbc88172c00ba8bc7</td>\n",
              "      <td>2017-05-16 15:05:35</td>\n",
              "      <td>1</td>\n",
              "      <td>124.99</td>\n",
              "      <td>474</td>\n",
              "      <td>0</td>\n",
              "    </tr>\n",
              "    <tr>\n",
              "      <th>1</th>\n",
              "      <td>3c799d181c34d51f6d44bbbc563024db</td>\n",
              "      <td>f0ac8e5a239118859b1734e1087cbb1f</td>\n",
              "      <td>2017-05-07 20:11:26</td>\n",
              "      <td>1</td>\n",
              "      <td>124.99</td>\n",
              "      <td>483</td>\n",
              "      <td>0</td>\n",
              "    </tr>\n",
              "    <tr>\n",
              "      <th>2</th>\n",
              "      <td>567ab47ca4deb92d46dbf54dce07d0a7</td>\n",
              "      <td>fd3a0b1bd209f0e7d420c9c3d1127613</td>\n",
              "      <td>2017-03-23 15:10:17</td>\n",
              "      <td>1</td>\n",
              "      <td>126.99</td>\n",
              "      <td>528</td>\n",
              "      <td>0</td>\n",
              "    </tr>\n",
              "    <tr>\n",
              "      <th>3</th>\n",
              "      <td>f40ab89b622248b7ca125af4b486b887</td>\n",
              "      <td>fbd40c083aa8cddebb5265b2ba6aaf2e</td>\n",
              "      <td>2017-05-16 10:00:49</td>\n",
              "      <td>1</td>\n",
              "      <td>124.99</td>\n",
              "      <td>474</td>\n",
              "      <td>0</td>\n",
              "    </tr>\n",
              "    <tr>\n",
              "      <th>4</th>\n",
              "      <td>749943913a9851a39c9baf51877fbab6</td>\n",
              "      <td>10558ef4afea173bfb5e2cbe3d5b0bb5</td>\n",
              "      <td>2017-03-18 23:04:36</td>\n",
              "      <td>1</td>\n",
              "      <td>126.99</td>\n",
              "      <td>533</td>\n",
              "      <td>0</td>\n",
              "    </tr>\n",
              "  </tbody>\n",
              "</table>\n",
              "</div>"
            ],
            "text/plain": [
              "                   id_unico_cliente                        id_cliente  \\\n",
              "0  861eff4711a542e4b93843c6dd7febb0  06b8999e2fba1a1fbc88172c00ba8bc7   \n",
              "1  3c799d181c34d51f6d44bbbc563024db  f0ac8e5a239118859b1734e1087cbb1f   \n",
              "2  567ab47ca4deb92d46dbf54dce07d0a7  fd3a0b1bd209f0e7d420c9c3d1127613   \n",
              "3  f40ab89b622248b7ca125af4b486b887  fbd40c083aa8cddebb5265b2ba6aaf2e   \n",
              "4  749943913a9851a39c9baf51877fbab6  10558ef4afea173bfb5e2cbe3d5b0bb5   \n",
              "\n",
              "        horario_pedido  item_id   preco  Recencia  RecenciaCluster  \n",
              "0  2017-05-16 15:05:35        1  124.99       474                0  \n",
              "1  2017-05-07 20:11:26        1  124.99       483                0  \n",
              "2  2017-03-23 15:10:17        1  126.99       528                0  \n",
              "3  2017-05-16 10:00:49        1  124.99       474                0  \n",
              "4  2017-03-18 23:04:36        1  126.99       533                0  "
            ]
          },
          "metadata": {
            "tags": []
          },
          "execution_count": 21
        }
      ]
    },
    {
      "cell_type": "code",
      "metadata": {
        "id": "_dIqFVpW84hJ"
      },
      "source": [
        "def ordena_cluster(cluster_nome, target_nome, df):\n",
        "    agrupado_por_cluster = df.groupby(cluster_nome)[target_nome].mean().reset_index()\n",
        "    \n",
        "    # quando em sort_values ascending estiver com valor False ordenara a Recencia de forma decrescente e Frequencia e Receita de forma decrescente\n",
        "    if target_nome == 'Recencia':\n",
        "        agrupado_por_cluster_ordenado = agrupado_por_cluster.sort_values(by=target_nome, ascending=False).reset_index(drop=True)\n",
        "    elif target_nome == 'Frequencia' or target_nome == \"Receita\":\n",
        "        agrupado_por_cluster_ordenado = agrupado_por_cluster.sort_values(by=target_nome, ascending=True).reset_index(drop=True)\n",
        "    \n",
        "    agrupado_por_cluster_ordenado['index'] = agrupado_por_cluster_ordenado.index\n",
        "    juntando_cluster = pd.merge(df, agrupado_por_cluster_ordenado[[cluster_nome, 'index']], on = cluster_nome)\n",
        "    df_final = juntando_cluster.drop([cluster_nome], axis = 1)\n",
        "    df_final = df_final.rename(columns={'index':cluster_nome})\n",
        "    \n",
        "    return df_final\n"
      ],
      "execution_count": null,
      "outputs": []
    },
    {
      "cell_type": "code",
      "metadata": {
        "id": "A5FOn-ad84hJ",
        "outputId": "124382f6-58fc-453a-ac9c-f94d75e352e1"
      },
      "source": [
        "df_usuario = ordena_cluster('RecenciaCluster', 'Recencia', df_usuario)\n",
        "df_usuario.head()"
      ],
      "execution_count": null,
      "outputs": [
        {
          "output_type": "execute_result",
          "data": {
            "text/html": [
              "<div>\n",
              "<style scoped>\n",
              "    .dataframe tbody tr th:only-of-type {\n",
              "        vertical-align: middle;\n",
              "    }\n",
              "\n",
              "    .dataframe tbody tr th {\n",
              "        vertical-align: top;\n",
              "    }\n",
              "\n",
              "    .dataframe thead th {\n",
              "        text-align: right;\n",
              "    }\n",
              "</style>\n",
              "<table border=\"1\" class=\"dataframe\">\n",
              "  <thead>\n",
              "    <tr style=\"text-align: right;\">\n",
              "      <th></th>\n",
              "      <th>id_unico_cliente</th>\n",
              "      <th>id_cliente</th>\n",
              "      <th>horario_pedido</th>\n",
              "      <th>item_id</th>\n",
              "      <th>preco</th>\n",
              "      <th>Recencia</th>\n",
              "      <th>RecenciaCluster</th>\n",
              "    </tr>\n",
              "  </thead>\n",
              "  <tbody>\n",
              "    <tr>\n",
              "      <th>0</th>\n",
              "      <td>861eff4711a542e4b93843c6dd7febb0</td>\n",
              "      <td>06b8999e2fba1a1fbc88172c00ba8bc7</td>\n",
              "      <td>2017-05-16 15:05:35</td>\n",
              "      <td>1</td>\n",
              "      <td>124.99</td>\n",
              "      <td>474</td>\n",
              "      <td>0</td>\n",
              "    </tr>\n",
              "    <tr>\n",
              "      <th>1</th>\n",
              "      <td>3c799d181c34d51f6d44bbbc563024db</td>\n",
              "      <td>f0ac8e5a239118859b1734e1087cbb1f</td>\n",
              "      <td>2017-05-07 20:11:26</td>\n",
              "      <td>1</td>\n",
              "      <td>124.99</td>\n",
              "      <td>483</td>\n",
              "      <td>0</td>\n",
              "    </tr>\n",
              "    <tr>\n",
              "      <th>2</th>\n",
              "      <td>567ab47ca4deb92d46dbf54dce07d0a7</td>\n",
              "      <td>fd3a0b1bd209f0e7d420c9c3d1127613</td>\n",
              "      <td>2017-03-23 15:10:17</td>\n",
              "      <td>1</td>\n",
              "      <td>126.99</td>\n",
              "      <td>528</td>\n",
              "      <td>0</td>\n",
              "    </tr>\n",
              "    <tr>\n",
              "      <th>3</th>\n",
              "      <td>f40ab89b622248b7ca125af4b486b887</td>\n",
              "      <td>fbd40c083aa8cddebb5265b2ba6aaf2e</td>\n",
              "      <td>2017-05-16 10:00:49</td>\n",
              "      <td>1</td>\n",
              "      <td>124.99</td>\n",
              "      <td>474</td>\n",
              "      <td>0</td>\n",
              "    </tr>\n",
              "    <tr>\n",
              "      <th>4</th>\n",
              "      <td>749943913a9851a39c9baf51877fbab6</td>\n",
              "      <td>10558ef4afea173bfb5e2cbe3d5b0bb5</td>\n",
              "      <td>2017-03-18 23:04:36</td>\n",
              "      <td>1</td>\n",
              "      <td>126.99</td>\n",
              "      <td>533</td>\n",
              "      <td>0</td>\n",
              "    </tr>\n",
              "  </tbody>\n",
              "</table>\n",
              "</div>"
            ],
            "text/plain": [
              "                   id_unico_cliente                        id_cliente  \\\n",
              "0  861eff4711a542e4b93843c6dd7febb0  06b8999e2fba1a1fbc88172c00ba8bc7   \n",
              "1  3c799d181c34d51f6d44bbbc563024db  f0ac8e5a239118859b1734e1087cbb1f   \n",
              "2  567ab47ca4deb92d46dbf54dce07d0a7  fd3a0b1bd209f0e7d420c9c3d1127613   \n",
              "3  f40ab89b622248b7ca125af4b486b887  fbd40c083aa8cddebb5265b2ba6aaf2e   \n",
              "4  749943913a9851a39c9baf51877fbab6  10558ef4afea173bfb5e2cbe3d5b0bb5   \n",
              "\n",
              "        horario_pedido  item_id   preco  Recencia  RecenciaCluster  \n",
              "0  2017-05-16 15:05:35        1  124.99       474                0  \n",
              "1  2017-05-07 20:11:26        1  124.99       483                0  \n",
              "2  2017-03-23 15:10:17        1  126.99       528                0  \n",
              "3  2017-05-16 10:00:49        1  124.99       474                0  \n",
              "4  2017-03-18 23:04:36        1  126.99       533                0  "
            ]
          },
          "metadata": {
            "tags": []
          },
          "execution_count": 23
        }
      ]
    },
    {
      "cell_type": "code",
      "metadata": {
        "id": "2MbNfptm84hJ",
        "outputId": "4ed241ba-4416-4827-9da1-ba2953ddfdbd"
      },
      "source": [
        "df_usuario.groupby('RecenciaCluster')['Recencia'].describe()"
      ],
      "execution_count": null,
      "outputs": [
        {
          "output_type": "execute_result",
          "data": {
            "text/html": [
              "<div>\n",
              "<style scoped>\n",
              "    .dataframe tbody tr th:only-of-type {\n",
              "        vertical-align: middle;\n",
              "    }\n",
              "\n",
              "    .dataframe tbody tr th {\n",
              "        vertical-align: top;\n",
              "    }\n",
              "\n",
              "    .dataframe thead th {\n",
              "        text-align: right;\n",
              "    }\n",
              "</style>\n",
              "<table border=\"1\" class=\"dataframe\">\n",
              "  <thead>\n",
              "    <tr style=\"text-align: right;\">\n",
              "      <th></th>\n",
              "      <th>count</th>\n",
              "      <th>mean</th>\n",
              "      <th>std</th>\n",
              "      <th>min</th>\n",
              "      <th>25%</th>\n",
              "      <th>50%</th>\n",
              "      <th>75%</th>\n",
              "      <th>max</th>\n",
              "    </tr>\n",
              "    <tr>\n",
              "      <th>RecenciaCluster</th>\n",
              "      <th></th>\n",
              "      <th></th>\n",
              "      <th></th>\n",
              "      <th></th>\n",
              "      <th></th>\n",
              "      <th></th>\n",
              "      <th></th>\n",
              "      <th></th>\n",
              "    </tr>\n",
              "  </thead>\n",
              "  <tbody>\n",
              "    <tr>\n",
              "      <th>0</th>\n",
              "      <td>20324.0</td>\n",
              "      <td>490.622269</td>\n",
              "      <td>59.293154</td>\n",
              "      <td>406.0</td>\n",
              "      <td>444.0</td>\n",
              "      <td>481.0</td>\n",
              "      <td>533.0</td>\n",
              "      <td>728.0</td>\n",
              "    </tr>\n",
              "    <tr>\n",
              "      <th>1</th>\n",
              "      <td>30828.0</td>\n",
              "      <td>320.233294</td>\n",
              "      <td>43.971639</td>\n",
              "      <td>255.0</td>\n",
              "      <td>281.0</td>\n",
              "      <td>314.0</td>\n",
              "      <td>357.0</td>\n",
              "      <td>405.0</td>\n",
              "    </tr>\n",
              "    <tr>\n",
              "      <th>2</th>\n",
              "      <td>33377.0</td>\n",
              "      <td>188.381490</td>\n",
              "      <td>34.867501</td>\n",
              "      <td>129.0</td>\n",
              "      <td>159.0</td>\n",
              "      <td>188.0</td>\n",
              "      <td>219.0</td>\n",
              "      <td>254.0</td>\n",
              "    </tr>\n",
              "    <tr>\n",
              "      <th>3</th>\n",
              "      <td>32052.0</td>\n",
              "      <td>67.291214</td>\n",
              "      <td>36.283000</td>\n",
              "      <td>0.0</td>\n",
              "      <td>33.0</td>\n",
              "      <td>67.0</td>\n",
              "      <td>102.0</td>\n",
              "      <td>128.0</td>\n",
              "    </tr>\n",
              "  </tbody>\n",
              "</table>\n",
              "</div>"
            ],
            "text/plain": [
              "                   count        mean        std    min    25%    50%    75%  \\\n",
              "RecenciaCluster                                                               \n",
              "0                20324.0  490.622269  59.293154  406.0  444.0  481.0  533.0   \n",
              "1                30828.0  320.233294  43.971639  255.0  281.0  314.0  357.0   \n",
              "2                33377.0  188.381490  34.867501  129.0  159.0  188.0  219.0   \n",
              "3                32052.0   67.291214  36.283000    0.0   33.0   67.0  102.0   \n",
              "\n",
              "                   max  \n",
              "RecenciaCluster         \n",
              "0                728.0  \n",
              "1                405.0  \n",
              "2                254.0  \n",
              "3                128.0  "
            ]
          },
          "metadata": {
            "tags": []
          },
          "execution_count": 24
        }
      ]
    },
    {
      "cell_type": "markdown",
      "metadata": {
        "id": "tWLjSNja84hJ"
      },
      "source": [
        "### Clusterizando a Frequencia"
      ]
    },
    {
      "cell_type": "code",
      "metadata": {
        "id": "MYxkD10c84hJ",
        "outputId": "7d0918a2-a7ee-470f-a461-b3fc37f24415"
      },
      "source": [
        "df_frequencia = dados.groupby('id_unico_cliente')['pedido_aprovado'].count().reset_index()\n",
        "df_frequencia.columns = ['id_unico_cliente','Frequencia']\n",
        "\n",
        "df_usuario = pd.merge(df_usuario, df_frequencia, on='id_unico_cliente')\n",
        "df_usuario.head()"
      ],
      "execution_count": null,
      "outputs": [
        {
          "output_type": "execute_result",
          "data": {
            "text/html": [
              "<div>\n",
              "<style scoped>\n",
              "    .dataframe tbody tr th:only-of-type {\n",
              "        vertical-align: middle;\n",
              "    }\n",
              "\n",
              "    .dataframe tbody tr th {\n",
              "        vertical-align: top;\n",
              "    }\n",
              "\n",
              "    .dataframe thead th {\n",
              "        text-align: right;\n",
              "    }\n",
              "</style>\n",
              "<table border=\"1\" class=\"dataframe\">\n",
              "  <thead>\n",
              "    <tr style=\"text-align: right;\">\n",
              "      <th></th>\n",
              "      <th>id_unico_cliente</th>\n",
              "      <th>id_cliente</th>\n",
              "      <th>horario_pedido</th>\n",
              "      <th>item_id</th>\n",
              "      <th>preco</th>\n",
              "      <th>Recencia</th>\n",
              "      <th>RecenciaCluster</th>\n",
              "      <th>Frequencia</th>\n",
              "    </tr>\n",
              "  </thead>\n",
              "  <tbody>\n",
              "    <tr>\n",
              "      <th>0</th>\n",
              "      <td>861eff4711a542e4b93843c6dd7febb0</td>\n",
              "      <td>06b8999e2fba1a1fbc88172c00ba8bc7</td>\n",
              "      <td>2017-05-16 15:05:35</td>\n",
              "      <td>1</td>\n",
              "      <td>124.99</td>\n",
              "      <td>474</td>\n",
              "      <td>0</td>\n",
              "      <td>1</td>\n",
              "    </tr>\n",
              "    <tr>\n",
              "      <th>1</th>\n",
              "      <td>3c799d181c34d51f6d44bbbc563024db</td>\n",
              "      <td>f0ac8e5a239118859b1734e1087cbb1f</td>\n",
              "      <td>2017-05-07 20:11:26</td>\n",
              "      <td>1</td>\n",
              "      <td>124.99</td>\n",
              "      <td>483</td>\n",
              "      <td>0</td>\n",
              "      <td>1</td>\n",
              "    </tr>\n",
              "    <tr>\n",
              "      <th>2</th>\n",
              "      <td>567ab47ca4deb92d46dbf54dce07d0a7</td>\n",
              "      <td>fd3a0b1bd209f0e7d420c9c3d1127613</td>\n",
              "      <td>2017-03-23 15:10:17</td>\n",
              "      <td>1</td>\n",
              "      <td>126.99</td>\n",
              "      <td>528</td>\n",
              "      <td>0</td>\n",
              "      <td>1</td>\n",
              "    </tr>\n",
              "    <tr>\n",
              "      <th>3</th>\n",
              "      <td>f40ab89b622248b7ca125af4b486b887</td>\n",
              "      <td>fbd40c083aa8cddebb5265b2ba6aaf2e</td>\n",
              "      <td>2017-05-16 10:00:49</td>\n",
              "      <td>1</td>\n",
              "      <td>124.99</td>\n",
              "      <td>474</td>\n",
              "      <td>0</td>\n",
              "      <td>1</td>\n",
              "    </tr>\n",
              "    <tr>\n",
              "      <th>4</th>\n",
              "      <td>749943913a9851a39c9baf51877fbab6</td>\n",
              "      <td>10558ef4afea173bfb5e2cbe3d5b0bb5</td>\n",
              "      <td>2017-03-18 23:04:36</td>\n",
              "      <td>1</td>\n",
              "      <td>126.99</td>\n",
              "      <td>533</td>\n",
              "      <td>0</td>\n",
              "      <td>1</td>\n",
              "    </tr>\n",
              "  </tbody>\n",
              "</table>\n",
              "</div>"
            ],
            "text/plain": [
              "                   id_unico_cliente                        id_cliente  \\\n",
              "0  861eff4711a542e4b93843c6dd7febb0  06b8999e2fba1a1fbc88172c00ba8bc7   \n",
              "1  3c799d181c34d51f6d44bbbc563024db  f0ac8e5a239118859b1734e1087cbb1f   \n",
              "2  567ab47ca4deb92d46dbf54dce07d0a7  fd3a0b1bd209f0e7d420c9c3d1127613   \n",
              "3  f40ab89b622248b7ca125af4b486b887  fbd40c083aa8cddebb5265b2ba6aaf2e   \n",
              "4  749943913a9851a39c9baf51877fbab6  10558ef4afea173bfb5e2cbe3d5b0bb5   \n",
              "\n",
              "        horario_pedido  item_id   preco  Recencia  RecenciaCluster  Frequencia  \n",
              "0  2017-05-16 15:05:35        1  124.99       474                0           1  \n",
              "1  2017-05-07 20:11:26        1  124.99       483                0           1  \n",
              "2  2017-03-23 15:10:17        1  126.99       528                0           1  \n",
              "3  2017-05-16 10:00:49        1  124.99       474                0           1  \n",
              "4  2017-03-18 23:04:36        1  126.99       533                0           1  "
            ]
          },
          "metadata": {
            "tags": []
          },
          "execution_count": 25
        }
      ]
    },
    {
      "cell_type": "code",
      "metadata": {
        "id": "wt0qp_R284hK"
      },
      "source": [
        "df_frequencia = df_usuario[['Frequencia']]\n",
        "kmean = KMeans(n_clusters = 4)\n",
        "df_usuario['FrequenciaCluster'] = kmeans.fit_predict(df_frequencia)\n"
      ],
      "execution_count": null,
      "outputs": []
    },
    {
      "cell_type": "code",
      "metadata": {
        "id": "od3A8wST84hK",
        "outputId": "9401c7e2-5a09-47bd-a734-5b2d73a651d4"
      },
      "source": [
        "df_usuario = ordena_cluster('FrequenciaCluster', 'Frequencia', df_usuario)\n",
        "\n",
        "df_usuario.groupby('FrequenciaCluster')['Frequencia'].describe()"
      ],
      "execution_count": null,
      "outputs": [
        {
          "output_type": "execute_result",
          "data": {
            "text/html": [
              "<div>\n",
              "<style scoped>\n",
              "    .dataframe tbody tr th:only-of-type {\n",
              "        vertical-align: middle;\n",
              "    }\n",
              "\n",
              "    .dataframe tbody tr th {\n",
              "        vertical-align: top;\n",
              "    }\n",
              "\n",
              "    .dataframe thead th {\n",
              "        text-align: right;\n",
              "    }\n",
              "</style>\n",
              "<table border=\"1\" class=\"dataframe\">\n",
              "  <thead>\n",
              "    <tr style=\"text-align: right;\">\n",
              "      <th></th>\n",
              "      <th>count</th>\n",
              "      <th>mean</th>\n",
              "      <th>std</th>\n",
              "      <th>min</th>\n",
              "      <th>25%</th>\n",
              "      <th>50%</th>\n",
              "      <th>75%</th>\n",
              "      <th>max</th>\n",
              "    </tr>\n",
              "    <tr>\n",
              "      <th>FrequenciaCluster</th>\n",
              "      <th></th>\n",
              "      <th></th>\n",
              "      <th></th>\n",
              "      <th></th>\n",
              "      <th></th>\n",
              "      <th></th>\n",
              "      <th></th>\n",
              "      <th></th>\n",
              "    </tr>\n",
              "  </thead>\n",
              "  <tbody>\n",
              "    <tr>\n",
              "      <th>0</th>\n",
              "      <td>106570.0</td>\n",
              "      <td>1.306343</td>\n",
              "      <td>0.570539</td>\n",
              "      <td>0.0</td>\n",
              "      <td>1.0</td>\n",
              "      <td>1.0</td>\n",
              "      <td>2.0</td>\n",
              "      <td>3.0</td>\n",
              "    </tr>\n",
              "    <tr>\n",
              "      <th>1</th>\n",
              "      <td>8853.0</td>\n",
              "      <td>5.385858</td>\n",
              "      <td>1.732439</td>\n",
              "      <td>4.0</td>\n",
              "      <td>4.0</td>\n",
              "      <td>5.0</td>\n",
              "      <td>6.0</td>\n",
              "      <td>11.0</td>\n",
              "    </tr>\n",
              "    <tr>\n",
              "      <th>2</th>\n",
              "      <td>1083.0</td>\n",
              "      <td>18.453370</td>\n",
              "      <td>6.963889</td>\n",
              "      <td>12.0</td>\n",
              "      <td>12.0</td>\n",
              "      <td>15.0</td>\n",
              "      <td>24.0</td>\n",
              "      <td>38.0</td>\n",
              "    </tr>\n",
              "    <tr>\n",
              "      <th>3</th>\n",
              "      <td>75.0</td>\n",
              "      <td>75.000000</td>\n",
              "      <td>0.000000</td>\n",
              "      <td>75.0</td>\n",
              "      <td>75.0</td>\n",
              "      <td>75.0</td>\n",
              "      <td>75.0</td>\n",
              "      <td>75.0</td>\n",
              "    </tr>\n",
              "  </tbody>\n",
              "</table>\n",
              "</div>"
            ],
            "text/plain": [
              "                      count       mean       std   min   25%   50%   75%   max\n",
              "FrequenciaCluster                                                             \n",
              "0                  106570.0   1.306343  0.570539   0.0   1.0   1.0   2.0   3.0\n",
              "1                    8853.0   5.385858  1.732439   4.0   4.0   5.0   6.0  11.0\n",
              "2                    1083.0  18.453370  6.963889  12.0  12.0  15.0  24.0  38.0\n",
              "3                      75.0  75.000000  0.000000  75.0  75.0  75.0  75.0  75.0"
            ]
          },
          "metadata": {
            "tags": []
          },
          "execution_count": 27
        }
      ]
    },
    {
      "cell_type": "markdown",
      "metadata": {
        "id": "86TTg5ag84hK"
      },
      "source": [
        "## Clusterizando Receita"
      ]
    },
    {
      "cell_type": "code",
      "metadata": {
        "id": "Ptuo0WQo84hK",
        "outputId": "d7e5862e-c3cf-4681-c2c2-7e3c8d471d82"
      },
      "source": [
        "df_receita = dados.groupby('id_unico_cliente')['pagamento_valor'].sum().reset_index()\n",
        "df_receita.columns = ['id_unico_cliente', 'Receita']\n",
        "\n",
        "df_usuario = pd.merge(df_usuario, df_receita, on='id_unico_cliente')\n",
        "\n",
        "df_usuario.head()"
      ],
      "execution_count": null,
      "outputs": [
        {
          "output_type": "execute_result",
          "data": {
            "text/html": [
              "<div>\n",
              "<style scoped>\n",
              "    .dataframe tbody tr th:only-of-type {\n",
              "        vertical-align: middle;\n",
              "    }\n",
              "\n",
              "    .dataframe tbody tr th {\n",
              "        vertical-align: top;\n",
              "    }\n",
              "\n",
              "    .dataframe thead th {\n",
              "        text-align: right;\n",
              "    }\n",
              "</style>\n",
              "<table border=\"1\" class=\"dataframe\">\n",
              "  <thead>\n",
              "    <tr style=\"text-align: right;\">\n",
              "      <th></th>\n",
              "      <th>id_unico_cliente</th>\n",
              "      <th>id_cliente</th>\n",
              "      <th>horario_pedido</th>\n",
              "      <th>item_id</th>\n",
              "      <th>preco</th>\n",
              "      <th>Recencia</th>\n",
              "      <th>RecenciaCluster</th>\n",
              "      <th>Frequencia</th>\n",
              "      <th>FrequenciaCluster</th>\n",
              "      <th>Receita</th>\n",
              "    </tr>\n",
              "  </thead>\n",
              "  <tbody>\n",
              "    <tr>\n",
              "      <th>0</th>\n",
              "      <td>861eff4711a542e4b93843c6dd7febb0</td>\n",
              "      <td>06b8999e2fba1a1fbc88172c00ba8bc7</td>\n",
              "      <td>2017-05-16 15:05:35</td>\n",
              "      <td>1</td>\n",
              "      <td>124.99</td>\n",
              "      <td>474</td>\n",
              "      <td>0</td>\n",
              "      <td>1</td>\n",
              "      <td>0</td>\n",
              "      <td>146.87</td>\n",
              "    </tr>\n",
              "    <tr>\n",
              "      <th>1</th>\n",
              "      <td>3c799d181c34d51f6d44bbbc563024db</td>\n",
              "      <td>f0ac8e5a239118859b1734e1087cbb1f</td>\n",
              "      <td>2017-05-07 20:11:26</td>\n",
              "      <td>1</td>\n",
              "      <td>124.99</td>\n",
              "      <td>483</td>\n",
              "      <td>0</td>\n",
              "      <td>1</td>\n",
              "      <td>0</td>\n",
              "      <td>140.61</td>\n",
              "    </tr>\n",
              "    <tr>\n",
              "      <th>2</th>\n",
              "      <td>567ab47ca4deb92d46dbf54dce07d0a7</td>\n",
              "      <td>fd3a0b1bd209f0e7d420c9c3d1127613</td>\n",
              "      <td>2017-03-23 15:10:17</td>\n",
              "      <td>1</td>\n",
              "      <td>126.99</td>\n",
              "      <td>528</td>\n",
              "      <td>0</td>\n",
              "      <td>1</td>\n",
              "      <td>0</td>\n",
              "      <td>142.05</td>\n",
              "    </tr>\n",
              "    <tr>\n",
              "      <th>3</th>\n",
              "      <td>f40ab89b622248b7ca125af4b486b887</td>\n",
              "      <td>fbd40c083aa8cddebb5265b2ba6aaf2e</td>\n",
              "      <td>2017-05-16 10:00:49</td>\n",
              "      <td>1</td>\n",
              "      <td>124.99</td>\n",
              "      <td>474</td>\n",
              "      <td>0</td>\n",
              "      <td>1</td>\n",
              "      <td>0</td>\n",
              "      <td>155.70</td>\n",
              "    </tr>\n",
              "    <tr>\n",
              "      <th>4</th>\n",
              "      <td>749943913a9851a39c9baf51877fbab6</td>\n",
              "      <td>10558ef4afea173bfb5e2cbe3d5b0bb5</td>\n",
              "      <td>2017-03-18 23:04:36</td>\n",
              "      <td>1</td>\n",
              "      <td>126.99</td>\n",
              "      <td>533</td>\n",
              "      <td>0</td>\n",
              "      <td>1</td>\n",
              "      <td>0</td>\n",
              "      <td>148.33</td>\n",
              "    </tr>\n",
              "  </tbody>\n",
              "</table>\n",
              "</div>"
            ],
            "text/plain": [
              "                   id_unico_cliente                        id_cliente  \\\n",
              "0  861eff4711a542e4b93843c6dd7febb0  06b8999e2fba1a1fbc88172c00ba8bc7   \n",
              "1  3c799d181c34d51f6d44bbbc563024db  f0ac8e5a239118859b1734e1087cbb1f   \n",
              "2  567ab47ca4deb92d46dbf54dce07d0a7  fd3a0b1bd209f0e7d420c9c3d1127613   \n",
              "3  f40ab89b622248b7ca125af4b486b887  fbd40c083aa8cddebb5265b2ba6aaf2e   \n",
              "4  749943913a9851a39c9baf51877fbab6  10558ef4afea173bfb5e2cbe3d5b0bb5   \n",
              "\n",
              "        horario_pedido  item_id   preco  Recencia  RecenciaCluster  \\\n",
              "0  2017-05-16 15:05:35        1  124.99       474                0   \n",
              "1  2017-05-07 20:11:26        1  124.99       483                0   \n",
              "2  2017-03-23 15:10:17        1  126.99       528                0   \n",
              "3  2017-05-16 10:00:49        1  124.99       474                0   \n",
              "4  2017-03-18 23:04:36        1  126.99       533                0   \n",
              "\n",
              "   Frequencia  FrequenciaCluster  Receita  \n",
              "0           1                  0   146.87  \n",
              "1           1                  0   140.61  \n",
              "2           1                  0   142.05  \n",
              "3           1                  0   155.70  \n",
              "4           1                  0   148.33  "
            ]
          },
          "metadata": {
            "tags": []
          },
          "execution_count": 28
        }
      ]
    },
    {
      "cell_type": "code",
      "metadata": {
        "id": "PYGX_lcH84hK"
      },
      "source": [
        "df_receita = df_usuario[['Receita']]\n",
        "kmean = KMeans(n_clusters = 4)\n",
        "df_usuario['ReceitaCluster'] = kmeans.fit_predict(df_receita)"
      ],
      "execution_count": null,
      "outputs": []
    },
    {
      "cell_type": "code",
      "metadata": {
        "id": "ZLHZApdt84hK",
        "outputId": "a0dbcc6f-9ff0-4774-b304-ff776c878949"
      },
      "source": [
        "df_usuario = ordena_cluster('ReceitaCluster', 'Receita', df_usuario)\n",
        "\n",
        "df_usuario.groupby('ReceitaCluster')['Receita'].describe()"
      ],
      "execution_count": null,
      "outputs": [
        {
          "output_type": "execute_result",
          "data": {
            "text/html": [
              "<div>\n",
              "<style scoped>\n",
              "    .dataframe tbody tr th:only-of-type {\n",
              "        vertical-align: middle;\n",
              "    }\n",
              "\n",
              "    .dataframe tbody tr th {\n",
              "        vertical-align: top;\n",
              "    }\n",
              "\n",
              "    .dataframe thead th {\n",
              "        text-align: right;\n",
              "    }\n",
              "</style>\n",
              "<table border=\"1\" class=\"dataframe\">\n",
              "  <thead>\n",
              "    <tr style=\"text-align: right;\">\n",
              "      <th></th>\n",
              "      <th>count</th>\n",
              "      <th>mean</th>\n",
              "      <th>std</th>\n",
              "      <th>min</th>\n",
              "      <th>25%</th>\n",
              "      <th>50%</th>\n",
              "      <th>75%</th>\n",
              "      <th>max</th>\n",
              "    </tr>\n",
              "    <tr>\n",
              "      <th>ReceitaCluster</th>\n",
              "      <th></th>\n",
              "      <th></th>\n",
              "      <th></th>\n",
              "      <th></th>\n",
              "      <th></th>\n",
              "      <th></th>\n",
              "      <th></th>\n",
              "      <th></th>\n",
              "    </tr>\n",
              "  </thead>\n",
              "  <tbody>\n",
              "    <tr>\n",
              "      <th>0</th>\n",
              "      <td>114904.0</td>\n",
              "      <td>261.485763</td>\n",
              "      <td>377.283592</td>\n",
              "      <td>9.59</td>\n",
              "      <td>69.90</td>\n",
              "      <td>132.82</td>\n",
              "      <td>270.00</td>\n",
              "      <td>3080.96</td>\n",
              "    </tr>\n",
              "    <tr>\n",
              "      <th>1</th>\n",
              "      <td>1478.0</td>\n",
              "      <td>5900.843911</td>\n",
              "      <td>2894.129234</td>\n",
              "      <td>3083.40</td>\n",
              "      <td>3798.75</td>\n",
              "      <td>4875.25</td>\n",
              "      <td>7315.92</td>\n",
              "      <td>16313.60</td>\n",
              "    </tr>\n",
              "    <tr>\n",
              "      <th>2</th>\n",
              "      <td>191.0</td>\n",
              "      <td>27358.656911</td>\n",
              "      <td>10032.832924</td>\n",
              "      <td>17069.76</td>\n",
              "      <td>19167.26</td>\n",
              "      <td>25051.89</td>\n",
              "      <td>30186.00</td>\n",
              "      <td>45256.00</td>\n",
              "    </tr>\n",
              "    <tr>\n",
              "      <th>3</th>\n",
              "      <td>8.0</td>\n",
              "      <td>109312.640000</td>\n",
              "      <td>0.000000</td>\n",
              "      <td>109312.64</td>\n",
              "      <td>109312.64</td>\n",
              "      <td>109312.64</td>\n",
              "      <td>109312.64</td>\n",
              "      <td>109312.64</td>\n",
              "    </tr>\n",
              "  </tbody>\n",
              "</table>\n",
              "</div>"
            ],
            "text/plain": [
              "                   count           mean           std        min        25%  \\\n",
              "ReceitaCluster                                                                \n",
              "0               114904.0     261.485763    377.283592       9.59      69.90   \n",
              "1                 1478.0    5900.843911   2894.129234    3083.40    3798.75   \n",
              "2                  191.0   27358.656911  10032.832924   17069.76   19167.26   \n",
              "3                    8.0  109312.640000      0.000000  109312.64  109312.64   \n",
              "\n",
              "                      50%        75%        max  \n",
              "ReceitaCluster                                   \n",
              "0                  132.82     270.00    3080.96  \n",
              "1                 4875.25    7315.92   16313.60  \n",
              "2                25051.89   30186.00   45256.00  \n",
              "3               109312.64  109312.64  109312.64  "
            ]
          },
          "metadata": {
            "tags": []
          },
          "execution_count": 32
        }
      ]
    },
    {
      "cell_type": "code",
      "metadata": {
        "id": "l0Xr5YFn84hK",
        "outputId": "d3e35c08-7e4b-4d5a-d63d-477967b6ac77"
      },
      "source": [
        "df_usuario.head()"
      ],
      "execution_count": null,
      "outputs": [
        {
          "output_type": "execute_result",
          "data": {
            "text/html": [
              "<div>\n",
              "<style scoped>\n",
              "    .dataframe tbody tr th:only-of-type {\n",
              "        vertical-align: middle;\n",
              "    }\n",
              "\n",
              "    .dataframe tbody tr th {\n",
              "        vertical-align: top;\n",
              "    }\n",
              "\n",
              "    .dataframe thead th {\n",
              "        text-align: right;\n",
              "    }\n",
              "</style>\n",
              "<table border=\"1\" class=\"dataframe\">\n",
              "  <thead>\n",
              "    <tr style=\"text-align: right;\">\n",
              "      <th></th>\n",
              "      <th>id_unico_cliente</th>\n",
              "      <th>id_cliente</th>\n",
              "      <th>horario_pedido</th>\n",
              "      <th>item_id</th>\n",
              "      <th>preco</th>\n",
              "      <th>Recencia</th>\n",
              "      <th>RecenciaCluster</th>\n",
              "      <th>Frequencia</th>\n",
              "      <th>FrequenciaCluster</th>\n",
              "      <th>Receita</th>\n",
              "      <th>ReceitaCluster</th>\n",
              "    </tr>\n",
              "  </thead>\n",
              "  <tbody>\n",
              "    <tr>\n",
              "      <th>0</th>\n",
              "      <td>861eff4711a542e4b93843c6dd7febb0</td>\n",
              "      <td>06b8999e2fba1a1fbc88172c00ba8bc7</td>\n",
              "      <td>2017-05-16 15:05:35</td>\n",
              "      <td>1</td>\n",
              "      <td>124.99</td>\n",
              "      <td>474</td>\n",
              "      <td>0</td>\n",
              "      <td>1</td>\n",
              "      <td>0</td>\n",
              "      <td>146.87</td>\n",
              "      <td>0</td>\n",
              "    </tr>\n",
              "    <tr>\n",
              "      <th>1</th>\n",
              "      <td>3c799d181c34d51f6d44bbbc563024db</td>\n",
              "      <td>f0ac8e5a239118859b1734e1087cbb1f</td>\n",
              "      <td>2017-05-07 20:11:26</td>\n",
              "      <td>1</td>\n",
              "      <td>124.99</td>\n",
              "      <td>483</td>\n",
              "      <td>0</td>\n",
              "      <td>1</td>\n",
              "      <td>0</td>\n",
              "      <td>140.61</td>\n",
              "      <td>0</td>\n",
              "    </tr>\n",
              "    <tr>\n",
              "      <th>2</th>\n",
              "      <td>567ab47ca4deb92d46dbf54dce07d0a7</td>\n",
              "      <td>fd3a0b1bd209f0e7d420c9c3d1127613</td>\n",
              "      <td>2017-03-23 15:10:17</td>\n",
              "      <td>1</td>\n",
              "      <td>126.99</td>\n",
              "      <td>528</td>\n",
              "      <td>0</td>\n",
              "      <td>1</td>\n",
              "      <td>0</td>\n",
              "      <td>142.05</td>\n",
              "      <td>0</td>\n",
              "    </tr>\n",
              "    <tr>\n",
              "      <th>3</th>\n",
              "      <td>f40ab89b622248b7ca125af4b486b887</td>\n",
              "      <td>fbd40c083aa8cddebb5265b2ba6aaf2e</td>\n",
              "      <td>2017-05-16 10:00:49</td>\n",
              "      <td>1</td>\n",
              "      <td>124.99</td>\n",
              "      <td>474</td>\n",
              "      <td>0</td>\n",
              "      <td>1</td>\n",
              "      <td>0</td>\n",
              "      <td>155.70</td>\n",
              "      <td>0</td>\n",
              "    </tr>\n",
              "    <tr>\n",
              "      <th>4</th>\n",
              "      <td>749943913a9851a39c9baf51877fbab6</td>\n",
              "      <td>10558ef4afea173bfb5e2cbe3d5b0bb5</td>\n",
              "      <td>2017-03-18 23:04:36</td>\n",
              "      <td>1</td>\n",
              "      <td>126.99</td>\n",
              "      <td>533</td>\n",
              "      <td>0</td>\n",
              "      <td>1</td>\n",
              "      <td>0</td>\n",
              "      <td>148.33</td>\n",
              "      <td>0</td>\n",
              "    </tr>\n",
              "  </tbody>\n",
              "</table>\n",
              "</div>"
            ],
            "text/plain": [
              "                   id_unico_cliente                        id_cliente  \\\n",
              "0  861eff4711a542e4b93843c6dd7febb0  06b8999e2fba1a1fbc88172c00ba8bc7   \n",
              "1  3c799d181c34d51f6d44bbbc563024db  f0ac8e5a239118859b1734e1087cbb1f   \n",
              "2  567ab47ca4deb92d46dbf54dce07d0a7  fd3a0b1bd209f0e7d420c9c3d1127613   \n",
              "3  f40ab89b622248b7ca125af4b486b887  fbd40c083aa8cddebb5265b2ba6aaf2e   \n",
              "4  749943913a9851a39c9baf51877fbab6  10558ef4afea173bfb5e2cbe3d5b0bb5   \n",
              "\n",
              "        horario_pedido  item_id   preco  Recencia  RecenciaCluster  \\\n",
              "0  2017-05-16 15:05:35        1  124.99       474                0   \n",
              "1  2017-05-07 20:11:26        1  124.99       483                0   \n",
              "2  2017-03-23 15:10:17        1  126.99       528                0   \n",
              "3  2017-05-16 10:00:49        1  124.99       474                0   \n",
              "4  2017-03-18 23:04:36        1  126.99       533                0   \n",
              "\n",
              "   Frequencia  FrequenciaCluster  Receita  ReceitaCluster  \n",
              "0           1                  0   146.87               0  \n",
              "1           1                  0   140.61               0  \n",
              "2           1                  0   142.05               0  \n",
              "3           1                  0   155.70               0  \n",
              "4           1                  0   148.33               0  "
            ]
          },
          "metadata": {
            "tags": []
          },
          "execution_count": 33
        }
      ]
    },
    {
      "cell_type": "markdown",
      "metadata": {
        "id": "_ijv37ap84hK"
      },
      "source": [
        "## Criando um Sistema de  Pontuação"
      ]
    },
    {
      "cell_type": "code",
      "metadata": {
        "id": "v0C3XaUb84hK",
        "outputId": "446ae0f8-a0be-4852-c6c0-ead4dc0d8b91"
      },
      "source": [
        "df_final = df_usuario[['id_unico_cliente','Recencia','RecenciaCluster','Frequencia','FrequenciaCluster','Receita','ReceitaCluster']]\n",
        "df_final.tail()"
      ],
      "execution_count": null,
      "outputs": [
        {
          "output_type": "execute_result",
          "data": {
            "text/html": [
              "<div>\n",
              "<style scoped>\n",
              "    .dataframe tbody tr th:only-of-type {\n",
              "        vertical-align: middle;\n",
              "    }\n",
              "\n",
              "    .dataframe tbody tr th {\n",
              "        vertical-align: top;\n",
              "    }\n",
              "\n",
              "    .dataframe thead th {\n",
              "        text-align: right;\n",
              "    }\n",
              "</style>\n",
              "<table border=\"1\" class=\"dataframe\">\n",
              "  <thead>\n",
              "    <tr style=\"text-align: right;\">\n",
              "      <th></th>\n",
              "      <th>id_unico_cliente</th>\n",
              "      <th>Recencia</th>\n",
              "      <th>RecenciaCluster</th>\n",
              "      <th>Frequencia</th>\n",
              "      <th>FrequenciaCluster</th>\n",
              "      <th>Receita</th>\n",
              "      <th>ReceitaCluster</th>\n",
              "    </tr>\n",
              "  </thead>\n",
              "  <tbody>\n",
              "    <tr>\n",
              "      <th>116576</th>\n",
              "      <td>0a0a92112bd4c708ca5fde585afaa872</td>\n",
              "      <td>338</td>\n",
              "      <td>1</td>\n",
              "      <td>8</td>\n",
              "      <td>1</td>\n",
              "      <td>109312.64</td>\n",
              "      <td>3</td>\n",
              "    </tr>\n",
              "    <tr>\n",
              "      <th>116577</th>\n",
              "      <td>0a0a92112bd4c708ca5fde585afaa872</td>\n",
              "      <td>338</td>\n",
              "      <td>1</td>\n",
              "      <td>8</td>\n",
              "      <td>1</td>\n",
              "      <td>109312.64</td>\n",
              "      <td>3</td>\n",
              "    </tr>\n",
              "    <tr>\n",
              "      <th>116578</th>\n",
              "      <td>0a0a92112bd4c708ca5fde585afaa872</td>\n",
              "      <td>338</td>\n",
              "      <td>1</td>\n",
              "      <td>8</td>\n",
              "      <td>1</td>\n",
              "      <td>109312.64</td>\n",
              "      <td>3</td>\n",
              "    </tr>\n",
              "    <tr>\n",
              "      <th>116579</th>\n",
              "      <td>0a0a92112bd4c708ca5fde585afaa872</td>\n",
              "      <td>338</td>\n",
              "      <td>1</td>\n",
              "      <td>8</td>\n",
              "      <td>1</td>\n",
              "      <td>109312.64</td>\n",
              "      <td>3</td>\n",
              "    </tr>\n",
              "    <tr>\n",
              "      <th>116580</th>\n",
              "      <td>0a0a92112bd4c708ca5fde585afaa872</td>\n",
              "      <td>338</td>\n",
              "      <td>1</td>\n",
              "      <td>8</td>\n",
              "      <td>1</td>\n",
              "      <td>109312.64</td>\n",
              "      <td>3</td>\n",
              "    </tr>\n",
              "  </tbody>\n",
              "</table>\n",
              "</div>"
            ],
            "text/plain": [
              "                        id_unico_cliente  Recencia  RecenciaCluster  \\\n",
              "116576  0a0a92112bd4c708ca5fde585afaa872       338                1   \n",
              "116577  0a0a92112bd4c708ca5fde585afaa872       338                1   \n",
              "116578  0a0a92112bd4c708ca5fde585afaa872       338                1   \n",
              "116579  0a0a92112bd4c708ca5fde585afaa872       338                1   \n",
              "116580  0a0a92112bd4c708ca5fde585afaa872       338                1   \n",
              "\n",
              "        Frequencia  FrequenciaCluster    Receita  ReceitaCluster  \n",
              "116576           8                  1  109312.64               3  \n",
              "116577           8                  1  109312.64               3  \n",
              "116578           8                  1  109312.64               3  \n",
              "116579           8                  1  109312.64               3  \n",
              "116580           8                  1  109312.64               3  "
            ]
          },
          "metadata": {
            "tags": []
          },
          "execution_count": 38
        }
      ]
    },
    {
      "cell_type": "code",
      "metadata": {
        "id": "l1s7FXWp84hK",
        "outputId": "72d1f62d-e56a-4f22-f7d0-56b4cd8370a1"
      },
      "source": [
        "df_final['Pontuacao'] = df_usuario['RecenciaCluster'] + df_usuario['FrequenciaCluster'] + df_usuario['ReceitaCluster']\n",
        "df_final.head()"
      ],
      "execution_count": null,
      "outputs": [
        {
          "output_type": "execute_result",
          "data": {
            "text/html": [
              "<div>\n",
              "<style scoped>\n",
              "    .dataframe tbody tr th:only-of-type {\n",
              "        vertical-align: middle;\n",
              "    }\n",
              "\n",
              "    .dataframe tbody tr th {\n",
              "        vertical-align: top;\n",
              "    }\n",
              "\n",
              "    .dataframe thead th {\n",
              "        text-align: right;\n",
              "    }\n",
              "</style>\n",
              "<table border=\"1\" class=\"dataframe\">\n",
              "  <thead>\n",
              "    <tr style=\"text-align: right;\">\n",
              "      <th></th>\n",
              "      <th>id_unico_cliente</th>\n",
              "      <th>Recencia</th>\n",
              "      <th>RecenciaCluster</th>\n",
              "      <th>Frequencia</th>\n",
              "      <th>FrequenciaCluster</th>\n",
              "      <th>Receita</th>\n",
              "      <th>ReceitaCluster</th>\n",
              "      <th>Pontuacao</th>\n",
              "    </tr>\n",
              "  </thead>\n",
              "  <tbody>\n",
              "    <tr>\n",
              "      <th>0</th>\n",
              "      <td>861eff4711a542e4b93843c6dd7febb0</td>\n",
              "      <td>474</td>\n",
              "      <td>0</td>\n",
              "      <td>1</td>\n",
              "      <td>0</td>\n",
              "      <td>146.87</td>\n",
              "      <td>0</td>\n",
              "      <td>0</td>\n",
              "    </tr>\n",
              "    <tr>\n",
              "      <th>1</th>\n",
              "      <td>3c799d181c34d51f6d44bbbc563024db</td>\n",
              "      <td>483</td>\n",
              "      <td>0</td>\n",
              "      <td>1</td>\n",
              "      <td>0</td>\n",
              "      <td>140.61</td>\n",
              "      <td>0</td>\n",
              "      <td>0</td>\n",
              "    </tr>\n",
              "    <tr>\n",
              "      <th>2</th>\n",
              "      <td>567ab47ca4deb92d46dbf54dce07d0a7</td>\n",
              "      <td>528</td>\n",
              "      <td>0</td>\n",
              "      <td>1</td>\n",
              "      <td>0</td>\n",
              "      <td>142.05</td>\n",
              "      <td>0</td>\n",
              "      <td>0</td>\n",
              "    </tr>\n",
              "    <tr>\n",
              "      <th>3</th>\n",
              "      <td>f40ab89b622248b7ca125af4b486b887</td>\n",
              "      <td>474</td>\n",
              "      <td>0</td>\n",
              "      <td>1</td>\n",
              "      <td>0</td>\n",
              "      <td>155.70</td>\n",
              "      <td>0</td>\n",
              "      <td>0</td>\n",
              "    </tr>\n",
              "    <tr>\n",
              "      <th>4</th>\n",
              "      <td>749943913a9851a39c9baf51877fbab6</td>\n",
              "      <td>533</td>\n",
              "      <td>0</td>\n",
              "      <td>1</td>\n",
              "      <td>0</td>\n",
              "      <td>148.33</td>\n",
              "      <td>0</td>\n",
              "      <td>0</td>\n",
              "    </tr>\n",
              "  </tbody>\n",
              "</table>\n",
              "</div>"
            ],
            "text/plain": [
              "                   id_unico_cliente  Recencia  RecenciaCluster  Frequencia  \\\n",
              "0  861eff4711a542e4b93843c6dd7febb0       474                0           1   \n",
              "1  3c799d181c34d51f6d44bbbc563024db       483                0           1   \n",
              "2  567ab47ca4deb92d46dbf54dce07d0a7       528                0           1   \n",
              "3  f40ab89b622248b7ca125af4b486b887       474                0           1   \n",
              "4  749943913a9851a39c9baf51877fbab6       533                0           1   \n",
              "\n",
              "   FrequenciaCluster  Receita  ReceitaCluster  Pontuacao  \n",
              "0                  0   146.87               0          0  \n",
              "1                  0   140.61               0          0  \n",
              "2                  0   142.05               0          0  \n",
              "3                  0   155.70               0          0  \n",
              "4                  0   148.33               0          0  "
            ]
          },
          "metadata": {
            "tags": []
          },
          "execution_count": 41
        }
      ]
    },
    {
      "cell_type": "code",
      "metadata": {
        "id": "fVSXN1fr84hK",
        "outputId": "9dd6e76e-f6af-4106-89a3-2c9dbada0e67"
      },
      "source": [
        "print('Pontuação Máxima:', df_final['Pontuacao'].max())\n",
        "print('Pontuação Miníma:',df_final['Pontuacao'].min())"
      ],
      "execution_count": null,
      "outputs": [
        {
          "output_type": "stream",
          "text": [
            "Pontuação Máxima: 7\n",
            "Pontuação Miníma: 0\n"
          ],
          "name": "stdout"
        }
      ]
    },
    {
      "cell_type": "code",
      "metadata": {
        "id": "82o9V1kd84hK"
      },
      "source": [
        "df_final['Segmento'] = 'Inativo'\n",
        "df_final.loc[df_final['Pontuacao'] >= 1, 'Segmento'] = 'Pouco Ativo'\n",
        "df_final.loc[df_final['Pontuacao'] >= 3, 'Segmento'] = 'Ativo'\n",
        "df_final.loc[df_final['Pontuacao'] >= 5, 'Segmento'] = 'Muito Ativo'"
      ],
      "execution_count": null,
      "outputs": []
    },
    {
      "cell_type": "code",
      "metadata": {
        "id": "5IRjZt-784hK",
        "outputId": "20a75cf6-a78c-40e4-8d9d-39929ad0a76b"
      },
      "source": [
        "df_final.head()"
      ],
      "execution_count": null,
      "outputs": [
        {
          "output_type": "execute_result",
          "data": {
            "text/html": [
              "<div>\n",
              "<style scoped>\n",
              "    .dataframe tbody tr th:only-of-type {\n",
              "        vertical-align: middle;\n",
              "    }\n",
              "\n",
              "    .dataframe tbody tr th {\n",
              "        vertical-align: top;\n",
              "    }\n",
              "\n",
              "    .dataframe thead th {\n",
              "        text-align: right;\n",
              "    }\n",
              "</style>\n",
              "<table border=\"1\" class=\"dataframe\">\n",
              "  <thead>\n",
              "    <tr style=\"text-align: right;\">\n",
              "      <th></th>\n",
              "      <th>id_unico_cliente</th>\n",
              "      <th>Recencia</th>\n",
              "      <th>RecenciaCluster</th>\n",
              "      <th>Frequencia</th>\n",
              "      <th>FrequenciaCluster</th>\n",
              "      <th>Receita</th>\n",
              "      <th>ReceitaCluster</th>\n",
              "      <th>Pontuacao</th>\n",
              "      <th>Segmento</th>\n",
              "    </tr>\n",
              "  </thead>\n",
              "  <tbody>\n",
              "    <tr>\n",
              "      <th>0</th>\n",
              "      <td>861eff4711a542e4b93843c6dd7febb0</td>\n",
              "      <td>474</td>\n",
              "      <td>0</td>\n",
              "      <td>1</td>\n",
              "      <td>0</td>\n",
              "      <td>146.87</td>\n",
              "      <td>0</td>\n",
              "      <td>0</td>\n",
              "      <td>Inativo</td>\n",
              "    </tr>\n",
              "    <tr>\n",
              "      <th>1</th>\n",
              "      <td>3c799d181c34d51f6d44bbbc563024db</td>\n",
              "      <td>483</td>\n",
              "      <td>0</td>\n",
              "      <td>1</td>\n",
              "      <td>0</td>\n",
              "      <td>140.61</td>\n",
              "      <td>0</td>\n",
              "      <td>0</td>\n",
              "      <td>Inativo</td>\n",
              "    </tr>\n",
              "    <tr>\n",
              "      <th>2</th>\n",
              "      <td>567ab47ca4deb92d46dbf54dce07d0a7</td>\n",
              "      <td>528</td>\n",
              "      <td>0</td>\n",
              "      <td>1</td>\n",
              "      <td>0</td>\n",
              "      <td>142.05</td>\n",
              "      <td>0</td>\n",
              "      <td>0</td>\n",
              "      <td>Inativo</td>\n",
              "    </tr>\n",
              "    <tr>\n",
              "      <th>3</th>\n",
              "      <td>f40ab89b622248b7ca125af4b486b887</td>\n",
              "      <td>474</td>\n",
              "      <td>0</td>\n",
              "      <td>1</td>\n",
              "      <td>0</td>\n",
              "      <td>155.70</td>\n",
              "      <td>0</td>\n",
              "      <td>0</td>\n",
              "      <td>Inativo</td>\n",
              "    </tr>\n",
              "    <tr>\n",
              "      <th>4</th>\n",
              "      <td>749943913a9851a39c9baf51877fbab6</td>\n",
              "      <td>533</td>\n",
              "      <td>0</td>\n",
              "      <td>1</td>\n",
              "      <td>0</td>\n",
              "      <td>148.33</td>\n",
              "      <td>0</td>\n",
              "      <td>0</td>\n",
              "      <td>Inativo</td>\n",
              "    </tr>\n",
              "  </tbody>\n",
              "</table>\n",
              "</div>"
            ],
            "text/plain": [
              "                   id_unico_cliente  Recencia  RecenciaCluster  Frequencia  \\\n",
              "0  861eff4711a542e4b93843c6dd7febb0       474                0           1   \n",
              "1  3c799d181c34d51f6d44bbbc563024db       483                0           1   \n",
              "2  567ab47ca4deb92d46dbf54dce07d0a7       528                0           1   \n",
              "3  f40ab89b622248b7ca125af4b486b887       474                0           1   \n",
              "4  749943913a9851a39c9baf51877fbab6       533                0           1   \n",
              "\n",
              "   FrequenciaCluster  Receita  ReceitaCluster  Pontuacao Segmento  \n",
              "0                  0   146.87               0          0  Inativo  \n",
              "1                  0   140.61               0          0  Inativo  \n",
              "2                  0   142.05               0          0  Inativo  \n",
              "3                  0   155.70               0          0  Inativo  \n",
              "4                  0   148.33               0          0  Inativo  "
            ]
          },
          "metadata": {
            "tags": []
          },
          "execution_count": 76
        }
      ]
    },
    {
      "cell_type": "code",
      "metadata": {
        "id": "C-RspD3H84hK"
      },
      "source": [
        "# df_final.to_csv('dadosRFM.csv')"
      ],
      "execution_count": null,
      "outputs": []
    },
    {
      "cell_type": "markdown",
      "metadata": {
        "id": "NMXXV1tl84hK"
      },
      "source": [
        "## Análise Visual"
      ]
    },
    {
      "cell_type": "code",
      "metadata": {
        "id": "8L4DwyD784hL"
      },
      "source": [
        "def plota_segmento(x, y, data):\n",
        "    plt.figure(figsize=(12,5))\n",
        "    ax = sns.scatterplot(x=x, y=y, hue = 'Segmento', data=data, size='Segmento', sizes = (50,150), size_order = ['Muito Ativo','Ativo',\n",
        "                                                                                                                 'Pouco Ativo','Inativo'],\n",
        "                   palette = 'muted')\n",
        "    sns.set(color_codes = True, style = 'whitegrid')\n",
        "    plt.show()"
      ],
      "execution_count": null,
      "outputs": []
    },
    {
      "cell_type": "code",
      "metadata": {
        "id": "necudsRx84hL",
        "outputId": "280f3a33-985b-40ea-c4ae-42a0c5af766a"
      },
      "source": [
        "plota_segmento('Recencia','Frequencia',df_final)"
      ],
      "execution_count": null,
      "outputs": [
        {
          "output_type": "display_data",
          "data": {
            "image/png": "[encoded data removed]",
            "text/plain": [
              "<Figure size 864x360 with 1 Axes>"
            ]
          },
          "metadata": {
            "tags": []
          }
        }
      ]
    },
    {
      "cell_type": "code",
      "metadata": {
        "id": "yUkO0lpB84hL",
        "outputId": "f30c4574-7a16-4e51-fb37-c02ee256f70d"
      },
      "source": [
        "plota_segmento('Frequencia','Receita',df_final)"
      ],
      "execution_count": null,
      "outputs": [
        {
          "output_type": "display_data",
          "data": {
            "image/png": "[encoded data removed]",
            "text/plain": [
              "<Figure size 864x360 with 1 Axes>"
            ]
          },
          "metadata": {
            "tags": []
          }
        }
      ]
    },
    {
      "cell_type": "code",
      "metadata": {
        "id": "0veq-goz84hL",
        "outputId": "50e51388-65e7-415c-ffa9-b8018c152e6e"
      },
      "source": [
        "plota_segmento('Recencia','Receita',df_final)"
      ],
      "execution_count": null,
      "outputs": [
        {
          "output_type": "display_data",
          "data": {
            "image/png": "[encoded data removed]",
            "text/plain": [
              "<Figure size 864x360 with 1 Axes>"
            ]
          },
          "metadata": {
            "tags": []
          }
        }
      ]
    },
    {
      "cell_type": "code",
      "metadata": {
        "id": "Zk1ljPIe84hL",
        "outputId": "6a09b556-5384-4ea6-e83e-1bb05f9d0f35"
      },
      "source": [
        "sns.countplot(df_final['Segmento'])"
      ],
      "execution_count": null,
      "outputs": [
        {
          "output_type": "execute_result",
          "data": {
            "text/plain": [
              "<matplotlib.axes._subplots.AxesSubplot at 0x1b626f50c48>"
            ]
          },
          "metadata": {
            "tags": []
          },
          "execution_count": 85
        },
        {
          "output_type": "display_data",
          "data": {
            "image/png": "[encoded data removed]",
            "text/plain": [
              "<Figure size 432x288 with 1 Axes>"
            ]
          },
          "metadata": {
            "tags": []
          }
        }
      ]
    },
    {
      "cell_type": "markdown",
      "metadata": {
        "id": "dvgAE6hj84hL"
      },
      "source": [
        "### Medidas que podem ajudar\n",
        "\n",
        "- Recuperar os clientes 'Inativos' com promoções e cupons de descontos direcionados.\n",
        "\n",
        "- Fornecer descontos especiais de frete aos clientes 'Pouco Ativo'.\n",
        "\n",
        "- Descontos especiais e atendimento personalizado aos clientes do tipo 'Muito Ativo'."
      ]
    },
    {
      "cell_type": "code",
      "metadata": {
        "id": "l6k7xzjX84hL"
      },
      "source": [
        ""
      ],
      "execution_count": null,
      "outputs": []
    }
  ]
}